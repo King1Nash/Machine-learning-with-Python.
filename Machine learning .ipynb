{
 "cells": [
  {
   "cell_type": "markdown",
   "metadata": {
    "id": "6yJIXUB5nw-B"
   },
   "source": []
  },
  {
   "cell_type": "markdown",
   "metadata": {
    "id": "bSppHNzH9oLg"
   },
   "source": [
    "# Importing Files, Libraries, and Data Exploration"
   ]
  },
  {
   "cell_type": "code",
   "execution_count": 1,
   "metadata": {
    "colab": {
     "base_uri": "https://localhost:8080/"
    },
    "collapsed": true,
    "id": "CAH-JrCaBYI6",
    "outputId": "28aafbce-89a4-4702-ed9b-a87aa97cf53e"
   },
   "outputs": [
    {
     "name": "stdout",
     "output_type": "stream",
     "text": [
      "            economy economycode                                    regionwb  \\\n",
      "0       Afghanistan         AFG                                  South Asia   \n",
      "1       Afghanistan         AFG                                  South Asia   \n",
      "2       Afghanistan         AFG                                  South Asia   \n",
      "3       Afghanistan         AFG                                  South Asia   \n",
      "4       Afghanistan         AFG                                  South Asia   \n",
      "...             ...         ...                                         ...   \n",
      "143882     Zimbabwe         ZWE  Sub-Saharan Africa (excluding high income)   \n",
      "143883     Zimbabwe         ZWE  Sub-Saharan Africa (excluding high income)   \n",
      "143884     Zimbabwe         ZWE  Sub-Saharan Africa (excluding high income)   \n",
      "143885     Zimbabwe         ZWE  Sub-Saharan Africa (excluding high income)   \n",
      "143886     Zimbabwe         ZWE  Sub-Saharan Africa (excluding high income)   \n",
      "\n",
      "         pop_adult  wpid_random       wgt  female   age  educ  inc_q  ...  \\\n",
      "0       22647496.0    144274031  0.716416       2  43.0     2      4  ...   \n",
      "1       22647496.0    180724554  0.497408       2  55.0     1      3  ...   \n",
      "2       22647496.0    130686682  0.650431       1  15.0     1      2  ...   \n",
      "3       22647496.0    142646649  0.991862       2  23.0     1      4  ...   \n",
      "4       22647496.0    199055310  0.554940       1  46.0     1      1  ...   \n",
      "...            ...          ...       ...     ...   ...   ...    ...  ...   \n",
      "143882   8633711.0    142158626  1.327724       2  22.0     2      5  ...   \n",
      "143883   8633711.0    166233385  0.271210       1  52.0     2      5  ...   \n",
      "143884   8633711.0    127205071  0.337621       1  47.0     1      1  ...   \n",
      "143885   8633711.0    201016006  2.153500       2  18.0     1      3  ...   \n",
      "143886   8633711.0    204293669  0.271210       1  74.0     3      2  ...   \n",
      "\n",
      "        receive_transfers  receive_pension  receive_agriculture  \\\n",
      "0                       4                4                  4.0   \n",
      "1                       4                4                  2.0   \n",
      "2                       4                4                  4.0   \n",
      "3                       4                4                  2.0   \n",
      "4                       4                4                  4.0   \n",
      "...                   ...              ...                  ...   \n",
      "143882                  4                4                  4.0   \n",
      "143883                  1                4                  4.0   \n",
      "143884                  4                4                  4.0   \n",
      "143885                  4                4                  4.0   \n",
      "143886                  4                1                  4.0   \n",
      "\n",
      "        pay_utilities  remittances  mobileowner  internetaccess  \\\n",
      "0                   1          5.0            1               2   \n",
      "1                   4          5.0            1               2   \n",
      "2                   4          3.0            2               2   \n",
      "3                   4          5.0            1               2   \n",
      "4                   4          5.0            2               2   \n",
      "...               ...          ...          ...             ...   \n",
      "143882              4          5.0            1               1   \n",
      "143883              4          5.0            1               2   \n",
      "143884              4          5.0            1               2   \n",
      "143885              4          4.0            2               2   \n",
      "143886              4          1.0            1               2   \n",
      "\n",
      "        anydigpayment  merchantpay_dig  year  \n",
      "0                   1              0.0  2021  \n",
      "1                   0              0.0  2021  \n",
      "2                   0              0.0  2021  \n",
      "3                   0              0.0  2021  \n",
      "4                   0              0.0  2021  \n",
      "...               ...              ...   ...  \n",
      "143882              0              0.0  2021  \n",
      "143883              1              1.0  2021  \n",
      "143884              0              0.0  2021  \n",
      "143885              1              1.0  2021  \n",
      "143886              1              1.0  2021  \n",
      "\n",
      "[143887 rows x 128 columns]\n"
     ]
    }
   ],
   "source": [
    " #/content/micro_world_139countries.csv\n",
    "\n",
    "import pandas as pd\n",
    "df = pd.read_csv(\"/content/micro_world_139countries.csv\", encoding='latin-1')\n",
    "print(df)"
   ]
  },
  {
   "cell_type": "code",
   "execution_count": null,
   "metadata": {
    "collapsed": true,
    "id": "wmswUkntBBuO"
   },
   "outputs": [],
   "source": [
    "# Inspect the structure and first few rows of the dataset\n",
    "print(df.info())\n",
    "print(df.head())\n"
   ]
  },
  {
   "cell_type": "markdown",
   "metadata": {
    "id": "n_FOCohnButx"
   },
   "source": []
  },
  {
   "cell_type": "markdown",
   "metadata": {
    "id": "JorlOUpZBwgf"
   },
   "source": [
    "# Data Cleaning"
   ]
  },
  {
   "cell_type": "markdown",
   "metadata": {
    "id": "YNLqRlVk7dnL"
   },
   "source": [
    "### Display Data"
   ]
  },
  {
   "cell_type": "code",
   "execution_count": 2,
   "metadata": {
    "colab": {
     "base_uri": "https://localhost:8080/",
     "height": 690
    },
    "collapsed": true,
    "id": "jzzuXFPGBybZ",
    "outputId": "68689cd9-2092-4d8b-bf8d-1961bc49d63e"
   },
   "outputs": [
    {
     "data": {
      "application/vnd.google.colaboratory.intrinsic+json": {
       "type": "dataframe"
      },
      "text/html": [
       "\n",
       "  <div id=\"df-2d3cd8b6-f806-4331-be59-db6d473566ad\" class=\"colab-df-container\">\n",
       "    <div>\n",
       "<style scoped>\n",
       "    .dataframe tbody tr th:only-of-type {\n",
       "        vertical-align: middle;\n",
       "    }\n",
       "\n",
       "    .dataframe tbody tr th {\n",
       "        vertical-align: top;\n",
       "    }\n",
       "\n",
       "    .dataframe thead th {\n",
       "        text-align: right;\n",
       "    }\n",
       "</style>\n",
       "<table border=\"1\" class=\"dataframe\">\n",
       "  <thead>\n",
       "    <tr style=\"text-align: right;\">\n",
       "      <th></th>\n",
       "      <th>economy</th>\n",
       "      <th>economycode</th>\n",
       "      <th>regionwb</th>\n",
       "      <th>pop_adult</th>\n",
       "      <th>wpid_random</th>\n",
       "      <th>wgt</th>\n",
       "      <th>female</th>\n",
       "      <th>age</th>\n",
       "      <th>educ</th>\n",
       "      <th>inc_q</th>\n",
       "      <th>...</th>\n",
       "      <th>receive_transfers</th>\n",
       "      <th>receive_pension</th>\n",
       "      <th>receive_agriculture</th>\n",
       "      <th>pay_utilities</th>\n",
       "      <th>remittances</th>\n",
       "      <th>mobileowner</th>\n",
       "      <th>internetaccess</th>\n",
       "      <th>anydigpayment</th>\n",
       "      <th>merchantpay_dig</th>\n",
       "      <th>year</th>\n",
       "    </tr>\n",
       "  </thead>\n",
       "  <tbody>\n",
       "    <tr>\n",
       "      <th>48595</th>\n",
       "      <td>Ghana</td>\n",
       "      <td>GHA</td>\n",
       "      <td>Sub-Saharan Africa (excluding high income)</td>\n",
       "      <td>19535202.0</td>\n",
       "      <td>178645433</td>\n",
       "      <td>0.913661</td>\n",
       "      <td>2</td>\n",
       "      <td>35.0</td>\n",
       "      <td>2</td>\n",
       "      <td>5</td>\n",
       "      <td>...</td>\n",
       "      <td>4</td>\n",
       "      <td>4</td>\n",
       "      <td>4.0</td>\n",
       "      <td>2</td>\n",
       "      <td>2.0</td>\n",
       "      <td>1</td>\n",
       "      <td>1</td>\n",
       "      <td>1</td>\n",
       "      <td>0.0</td>\n",
       "      <td>2021</td>\n",
       "    </tr>\n",
       "    <tr>\n",
       "      <th>48596</th>\n",
       "      <td>Ghana</td>\n",
       "      <td>GHA</td>\n",
       "      <td>Sub-Saharan Africa (excluding high income)</td>\n",
       "      <td>19535202.0</td>\n",
       "      <td>208110394</td>\n",
       "      <td>0.790860</td>\n",
       "      <td>2</td>\n",
       "      <td>26.0</td>\n",
       "      <td>1</td>\n",
       "      <td>3</td>\n",
       "      <td>...</td>\n",
       "      <td>4</td>\n",
       "      <td>4</td>\n",
       "      <td>4.0</td>\n",
       "      <td>2</td>\n",
       "      <td>1.0</td>\n",
       "      <td>1</td>\n",
       "      <td>1</td>\n",
       "      <td>1</td>\n",
       "      <td>0.0</td>\n",
       "      <td>2021</td>\n",
       "    </tr>\n",
       "    <tr>\n",
       "      <th>48597</th>\n",
       "      <td>Ghana</td>\n",
       "      <td>GHA</td>\n",
       "      <td>Sub-Saharan Africa (excluding high income)</td>\n",
       "      <td>19535202.0</td>\n",
       "      <td>177511358</td>\n",
       "      <td>1.372293</td>\n",
       "      <td>1</td>\n",
       "      <td>45.0</td>\n",
       "      <td>1</td>\n",
       "      <td>3</td>\n",
       "      <td>...</td>\n",
       "      <td>4</td>\n",
       "      <td>4</td>\n",
       "      <td>4.0</td>\n",
       "      <td>2</td>\n",
       "      <td>1.0</td>\n",
       "      <td>1</td>\n",
       "      <td>2</td>\n",
       "      <td>1</td>\n",
       "      <td>0.0</td>\n",
       "      <td>2021</td>\n",
       "    </tr>\n",
       "    <tr>\n",
       "      <th>48598</th>\n",
       "      <td>Ghana</td>\n",
       "      <td>GHA</td>\n",
       "      <td>Sub-Saharan Africa (excluding high income)</td>\n",
       "      <td>19535202.0</td>\n",
       "      <td>195768215</td>\n",
       "      <td>0.412676</td>\n",
       "      <td>2</td>\n",
       "      <td>42.0</td>\n",
       "      <td>2</td>\n",
       "      <td>1</td>\n",
       "      <td>...</td>\n",
       "      <td>4</td>\n",
       "      <td>4</td>\n",
       "      <td>4.0</td>\n",
       "      <td>4</td>\n",
       "      <td>1.0</td>\n",
       "      <td>1</td>\n",
       "      <td>2</td>\n",
       "      <td>1</td>\n",
       "      <td>1.0</td>\n",
       "      <td>2021</td>\n",
       "    </tr>\n",
       "    <tr>\n",
       "      <th>48599</th>\n",
       "      <td>Ghana</td>\n",
       "      <td>GHA</td>\n",
       "      <td>Sub-Saharan Africa (excluding high income)</td>\n",
       "      <td>19535202.0</td>\n",
       "      <td>210047396</td>\n",
       "      <td>1.252679</td>\n",
       "      <td>2</td>\n",
       "      <td>53.0</td>\n",
       "      <td>1</td>\n",
       "      <td>3</td>\n",
       "      <td>...</td>\n",
       "      <td>4</td>\n",
       "      <td>4</td>\n",
       "      <td>2.0</td>\n",
       "      <td>4</td>\n",
       "      <td>5.0</td>\n",
       "      <td>1</td>\n",
       "      <td>2</td>\n",
       "      <td>0</td>\n",
       "      <td>0.0</td>\n",
       "      <td>2021</td>\n",
       "    </tr>\n",
       "  </tbody>\n",
       "</table>\n",
       "<p>5 rows × 128 columns</p>\n",
       "</div>\n",
       "    <div class=\"colab-df-buttons\">\n",
       "\n",
       "  <div class=\"colab-df-container\">\n",
       "    <button class=\"colab-df-convert\" onclick=\"convertToInteractive('df-2d3cd8b6-f806-4331-be59-db6d473566ad')\"\n",
       "            title=\"Convert this dataframe to an interactive table.\"\n",
       "            style=\"display:none;\">\n",
       "\n",
       "  <svg xmlns=\"http://www.w3.org/2000/svg\" height=\"24px\" viewBox=\"0 -960 960 960\">\n",
       "    <path d=\"M120-120v-720h720v720H120Zm60-500h600v-160H180v160Zm220 220h160v-160H400v160Zm0 220h160v-160H400v160ZM180-400h160v-160H180v160Zm440 0h160v-160H620v160ZM180-180h160v-160H180v160Zm440 0h160v-160H620v160Z\"/>\n",
       "  </svg>\n",
       "    </button>\n",
       "\n",
       "  <style>\n",
       "    .colab-df-container {\n",
       "      display:flex;\n",
       "      gap: 12px;\n",
       "    }\n",
       "\n",
       "    .colab-df-convert {\n",
       "      background-color: #E8F0FE;\n",
       "      border: none;\n",
       "      border-radius: 50%;\n",
       "      cursor: pointer;\n",
       "      display: none;\n",
       "      fill: #1967D2;\n",
       "      height: 32px;\n",
       "      padding: 0 0 0 0;\n",
       "      width: 32px;\n",
       "    }\n",
       "\n",
       "    .colab-df-convert:hover {\n",
       "      background-color: #E2EBFA;\n",
       "      box-shadow: 0px 1px 2px rgba(60, 64, 67, 0.3), 0px 1px 3px 1px rgba(60, 64, 67, 0.15);\n",
       "      fill: #174EA6;\n",
       "    }\n",
       "\n",
       "    .colab-df-buttons div {\n",
       "      margin-bottom: 4px;\n",
       "    }\n",
       "\n",
       "    [theme=dark] .colab-df-convert {\n",
       "      background-color: #3B4455;\n",
       "      fill: #D2E3FC;\n",
       "    }\n",
       "\n",
       "    [theme=dark] .colab-df-convert:hover {\n",
       "      background-color: #434B5C;\n",
       "      box-shadow: 0px 1px 3px 1px rgba(0, 0, 0, 0.15);\n",
       "      filter: drop-shadow(0px 1px 2px rgba(0, 0, 0, 0.3));\n",
       "      fill: #FFFFFF;\n",
       "    }\n",
       "  </style>\n",
       "\n",
       "    <script>\n",
       "      const buttonEl =\n",
       "        document.querySelector('#df-2d3cd8b6-f806-4331-be59-db6d473566ad button.colab-df-convert');\n",
       "      buttonEl.style.display =\n",
       "        google.colab.kernel.accessAllowed ? 'block' : 'none';\n",
       "\n",
       "      async function convertToInteractive(key) {\n",
       "        const element = document.querySelector('#df-2d3cd8b6-f806-4331-be59-db6d473566ad');\n",
       "        const dataTable =\n",
       "          await google.colab.kernel.invokeFunction('convertToInteractive',\n",
       "                                                    [key], {});\n",
       "        if (!dataTable) return;\n",
       "\n",
       "        const docLinkHtml = 'Like what you see? Visit the ' +\n",
       "          '<a target=\"_blank\" href=https://colab.research.google.com/notebooks/data_table.ipynb>data table notebook</a>'\n",
       "          + ' to learn more about interactive tables.';\n",
       "        element.innerHTML = '';\n",
       "        dataTable['output_type'] = 'display_data';\n",
       "        await google.colab.output.renderOutput(dataTable, element);\n",
       "        const docLink = document.createElement('div');\n",
       "        docLink.innerHTML = docLinkHtml;\n",
       "        element.appendChild(docLink);\n",
       "      }\n",
       "    </script>\n",
       "  </div>\n",
       "\n",
       "\n",
       "    <div id=\"df-f5cf7bd6-22a3-4cbe-8015-87ac6e75b680\">\n",
       "      <button class=\"colab-df-quickchart\" onclick=\"quickchart('df-f5cf7bd6-22a3-4cbe-8015-87ac6e75b680')\"\n",
       "                title=\"Suggest charts\"\n",
       "                style=\"display:none;\">\n",
       "\n",
       "<svg xmlns=\"http://www.w3.org/2000/svg\" height=\"24px\"viewBox=\"0 0 24 24\"\n",
       "     width=\"24px\">\n",
       "    <g>\n",
       "        <path d=\"M19 3H5c-1.1 0-2 .9-2 2v14c0 1.1.9 2 2 2h14c1.1 0 2-.9 2-2V5c0-1.1-.9-2-2-2zM9 17H7v-7h2v7zm4 0h-2V7h2v10zm4 0h-2v-4h2v4z\"/>\n",
       "    </g>\n",
       "</svg>\n",
       "      </button>\n",
       "\n",
       "<style>\n",
       "  .colab-df-quickchart {\n",
       "      --bg-color: #E8F0FE;\n",
       "      --fill-color: #1967D2;\n",
       "      --hover-bg-color: #E2EBFA;\n",
       "      --hover-fill-color: #174EA6;\n",
       "      --disabled-fill-color: #AAA;\n",
       "      --disabled-bg-color: #DDD;\n",
       "  }\n",
       "\n",
       "  [theme=dark] .colab-df-quickchart {\n",
       "      --bg-color: #3B4455;\n",
       "      --fill-color: #D2E3FC;\n",
       "      --hover-bg-color: #434B5C;\n",
       "      --hover-fill-color: #FFFFFF;\n",
       "      --disabled-bg-color: #3B4455;\n",
       "      --disabled-fill-color: #666;\n",
       "  }\n",
       "\n",
       "  .colab-df-quickchart {\n",
       "    background-color: var(--bg-color);\n",
       "    border: none;\n",
       "    border-radius: 50%;\n",
       "    cursor: pointer;\n",
       "    display: none;\n",
       "    fill: var(--fill-color);\n",
       "    height: 32px;\n",
       "    padding: 0;\n",
       "    width: 32px;\n",
       "  }\n",
       "\n",
       "  .colab-df-quickchart:hover {\n",
       "    background-color: var(--hover-bg-color);\n",
       "    box-shadow: 0 1px 2px rgba(60, 64, 67, 0.3), 0 1px 3px 1px rgba(60, 64, 67, 0.15);\n",
       "    fill: var(--button-hover-fill-color);\n",
       "  }\n",
       "\n",
       "  .colab-df-quickchart-complete:disabled,\n",
       "  .colab-df-quickchart-complete:disabled:hover {\n",
       "    background-color: var(--disabled-bg-color);\n",
       "    fill: var(--disabled-fill-color);\n",
       "    box-shadow: none;\n",
       "  }\n",
       "\n",
       "  .colab-df-spinner {\n",
       "    border: 2px solid var(--fill-color);\n",
       "    border-color: transparent;\n",
       "    border-bottom-color: var(--fill-color);\n",
       "    animation:\n",
       "      spin 1s steps(1) infinite;\n",
       "  }\n",
       "\n",
       "  @keyframes spin {\n",
       "    0% {\n",
       "      border-color: transparent;\n",
       "      border-bottom-color: var(--fill-color);\n",
       "      border-left-color: var(--fill-color);\n",
       "    }\n",
       "    20% {\n",
       "      border-color: transparent;\n",
       "      border-left-color: var(--fill-color);\n",
       "      border-top-color: var(--fill-color);\n",
       "    }\n",
       "    30% {\n",
       "      border-color: transparent;\n",
       "      border-left-color: var(--fill-color);\n",
       "      border-top-color: var(--fill-color);\n",
       "      border-right-color: var(--fill-color);\n",
       "    }\n",
       "    40% {\n",
       "      border-color: transparent;\n",
       "      border-right-color: var(--fill-color);\n",
       "      border-top-color: var(--fill-color);\n",
       "    }\n",
       "    60% {\n",
       "      border-color: transparent;\n",
       "      border-right-color: var(--fill-color);\n",
       "    }\n",
       "    80% {\n",
       "      border-color: transparent;\n",
       "      border-right-color: var(--fill-color);\n",
       "      border-bottom-color: var(--fill-color);\n",
       "    }\n",
       "    90% {\n",
       "      border-color: transparent;\n",
       "      border-bottom-color: var(--fill-color);\n",
       "    }\n",
       "  }\n",
       "</style>\n",
       "\n",
       "      <script>\n",
       "        async function quickchart(key) {\n",
       "          const quickchartButtonEl =\n",
       "            document.querySelector('#' + key + ' button');\n",
       "          quickchartButtonEl.disabled = true;  // To prevent multiple clicks.\n",
       "          quickchartButtonEl.classList.add('colab-df-spinner');\n",
       "          try {\n",
       "            const charts = await google.colab.kernel.invokeFunction(\n",
       "                'suggestCharts', [key], {});\n",
       "          } catch (error) {\n",
       "            console.error('Error during call to suggestCharts:', error);\n",
       "          }\n",
       "          quickchartButtonEl.classList.remove('colab-df-spinner');\n",
       "          quickchartButtonEl.classList.add('colab-df-quickchart-complete');\n",
       "        }\n",
       "        (() => {\n",
       "          let quickchartButtonEl =\n",
       "            document.querySelector('#df-f5cf7bd6-22a3-4cbe-8015-87ac6e75b680 button');\n",
       "          quickchartButtonEl.style.display =\n",
       "            google.colab.kernel.accessAllowed ? 'block' : 'none';\n",
       "        })();\n",
       "      </script>\n",
       "    </div>\n",
       "\n",
       "    </div>\n",
       "  </div>\n"
      ],
      "text/plain": [
       "      economy economycode                                    regionwb  \\\n",
       "48595   Ghana         GHA  Sub-Saharan Africa (excluding high income)   \n",
       "48596   Ghana         GHA  Sub-Saharan Africa (excluding high income)   \n",
       "48597   Ghana         GHA  Sub-Saharan Africa (excluding high income)   \n",
       "48598   Ghana         GHA  Sub-Saharan Africa (excluding high income)   \n",
       "48599   Ghana         GHA  Sub-Saharan Africa (excluding high income)   \n",
       "\n",
       "        pop_adult  wpid_random       wgt  female   age  educ  inc_q  ...  \\\n",
       "48595  19535202.0    178645433  0.913661       2  35.0     2      5  ...   \n",
       "48596  19535202.0    208110394  0.790860       2  26.0     1      3  ...   \n",
       "48597  19535202.0    177511358  1.372293       1  45.0     1      3  ...   \n",
       "48598  19535202.0    195768215  0.412676       2  42.0     2      1  ...   \n",
       "48599  19535202.0    210047396  1.252679       2  53.0     1      3  ...   \n",
       "\n",
       "       receive_transfers  receive_pension  receive_agriculture  pay_utilities  \\\n",
       "48595                  4                4                  4.0              2   \n",
       "48596                  4                4                  4.0              2   \n",
       "48597                  4                4                  4.0              2   \n",
       "48598                  4                4                  4.0              4   \n",
       "48599                  4                4                  2.0              4   \n",
       "\n",
       "       remittances  mobileowner  internetaccess  anydigpayment  \\\n",
       "48595          2.0            1               1              1   \n",
       "48596          1.0            1               1              1   \n",
       "48597          1.0            1               2              1   \n",
       "48598          1.0            1               2              1   \n",
       "48599          5.0            1               2              0   \n",
       "\n",
       "       merchantpay_dig  year  \n",
       "48595              0.0  2021  \n",
       "48596              0.0  2021  \n",
       "48597              0.0  2021  \n",
       "48598              1.0  2021  \n",
       "48599              0.0  2021  \n",
       "\n",
       "[5 rows x 128 columns]"
      ]
     },
     "metadata": {},
     "output_type": "display_data"
    }
   ],
   "source": [
    "# Import display from IPython for better visualization\n",
    "from IPython.display import display\n",
    "\n",
    "# Filter the dataset to include only Ghana-specific data\n",
    "ghana_df = df[df['economy'] == 'Ghana']\n",
    "\n",
    "# Display the filtered data in a table format\n",
    "display(ghana_df.head())\n",
    "\n"
   ]
  },
  {
   "cell_type": "markdown",
   "metadata": {
    "id": "UurACSgA7ser"
   },
   "source": [
    "### Handling Missing Values"
   ]
  },
  {
   "cell_type": "markdown",
   "metadata": {
    "id": "cTIx9TMREDsu"
   },
   "source": [
    "#### Display Columns with Missing Values"
   ]
  },
  {
   "cell_type": "code",
   "execution_count": 3,
   "metadata": {
    "colab": {
     "base_uri": "https://localhost:8080/"
    },
    "id": "YYRw7A2Oyvgt",
    "outputId": "599599ca-e513-47ab-a6de-a067df5d246c"
   },
   "outputs": [
    {
     "name": "stdout",
     "output_type": "stream",
     "text": [
      "age                  4\n",
      "fin1_1a            576\n",
      "fin1_1b            576\n",
      "fin4               769\n",
      "fin4a              964\n",
      "fin5               566\n",
      "fin6               566\n",
      "fin7               566\n",
      "fin8               987\n",
      "fin8a              996\n",
      "fin8b              987\n",
      "fin9               566\n",
      "fin9a              662\n",
      "fin10              566\n",
      "fin10_1a          1000\n",
      "fin10_1b          1000\n",
      "fin10_1c          1000\n",
      "fin10_1d          1000\n",
      "fin10_1e          1000\n",
      "fin10a             680\n",
      "fin10b             566\n",
      "fin11_1            750\n",
      "fin11a             434\n",
      "fin11b             434\n",
      "fin11c             434\n",
      "fin11d             434\n",
      "fin11e             434\n",
      "fin11f             434\n",
      "fin11g             434\n",
      "fin11h             434\n",
      "fin13_1a           727\n",
      "fin13_1b           727\n",
      "fin13_1c           727\n",
      "fin13_1d           727\n",
      "fin13_1e           727\n",
      "fin13_1f           727\n",
      "fin13a             334\n",
      "fin13b             334\n",
      "fin13c             334\n",
      "fin13d             328\n",
      "fin14_2            833\n",
      "fin14_2_China     1000\n",
      "fin14c             888\n",
      "fin14c_2           888\n",
      "fin14c_2_China    1000\n",
      "fin17a1            273\n",
      "fin22c             797\n",
      "fin24a             159\n",
      "fin24b             159\n",
      "fin27_1            346\n",
      "fin27c1            895\n",
      "fin27c2            895\n",
      "fin29_1            303\n",
      "fin29c1            891\n",
      "fin29c2            891\n",
      "fin31a             499\n",
      "fin31b             499\n",
      "fin31b1            896\n",
      "fin31b1_China     1000\n",
      "fin31c             603\n",
      "fin33              699\n",
      "fin34a             699\n",
      "fin34b             699\n",
      "fin34d             877\n",
      "fin34e             994\n",
      "fin35              822\n",
      "fin39a             919\n",
      "fin39b             919\n",
      "fin39d             959\n",
      "fin39e             966\n",
      "fin42a             731\n",
      "fin43a             731\n",
      "fin43b             731\n",
      "fin43d             790\n",
      "fin43e             996\n",
      "fin45              144\n",
      "fin45_1_China     1000\n",
      "dtype: int64\n"
     ]
    }
   ],
   "source": [
    "# Calculate the number of missing values for each column\n",
    "missing_values = ghana_df.isnull().sum()\n",
    "\n",
    "# Display all columns with missing values without truncation\n",
    "pd.set_option('display.max_rows', None)  # Show all rows\n",
    "print(missing_values[missing_values > 0])\n",
    "pd.reset_option('display.max_rows')  # Reset to default after viewing\n"
   ]
  },
  {
   "cell_type": "markdown",
   "metadata": {
    "id": "I9zXuWVk-t3v"
   },
   "source": [
    "#### Drop columns with 40% or higher missing values"
   ]
  },
  {
   "cell_type": "code",
   "execution_count": 4,
   "metadata": {
    "colab": {
     "base_uri": "https://localhost:8080/"
    },
    "id": "BAy0_jaFqfzM",
    "outputId": "18272344-9883-4c4d-c2b8-8dab31c8f7eb"
   },
   "outputs": [
    {
     "name": "stdout",
     "output_type": "stream",
     "text": [
      "Shape of the dataset after dropping columns with 40% or more missing values:\n",
      "(1000, 62)\n"
     ]
    }
   ],
   "source": [
    "# Calculate the percentage of missing values for each column\n",
    "missing_percentage = (ghana_df.isnull().sum() / len(ghana_df)) * 100\n",
    "\n",
    "# Identify columns with 40% or more missing values\n",
    "drop_columns = missing_percentage[missing_percentage >= 40].index.tolist()\n",
    "\n",
    "# Drop the columns from the dataset\n",
    "ghana_df = ghana_df.drop(columns=drop_columns)\n",
    "\n",
    "# Check the shape of the dataset after dropping columns\n",
    "print(\"Shape of the dataset after dropping columns with 40% or more missing values:\")\n",
    "print(ghana_df.shape)\n"
   ]
  },
  {
   "cell_type": "markdown",
   "metadata": {
    "id": "D2QIfxh5mYTE"
   },
   "source": [
    "####  Assessing Columns with 1-40% Missing Values"
   ]
  },
  {
   "cell_type": "code",
   "execution_count": 5,
   "metadata": {
    "colab": {
     "base_uri": "https://localhost:8080/"
    },
    "id": "AIHAuHp-bC3b",
    "outputId": "18e99e80-5051-42a7-fe81-9857b43699db"
   },
   "outputs": [
    {
     "name": "stdout",
     "output_type": "stream",
     "text": [
      "Remaining columns with missing values (0-40%):\n",
      "\n",
      "- age: Respondent's age - 0.40% missing\n",
      "- fin13a: Use mobile money account two or more times a month - 33.40% missing\n",
      "- fin13b: Use mobile money account to store money - 33.40% missing\n",
      "- fin13c: Use mobile money account to borrow money - 33.40% missing\n",
      "- fin13d: Use mobile money account without help - 32.80% missing\n",
      "- fin17a1: Saved using a mobile money account - 27.30% missing\n",
      "- fin24a: Difficulty of emergency funds in 30 days - 15.90% missing\n",
      "- fin24b: Difficulty of emergency funds in 7 days - 15.90% missing\n",
      "- fin27_1: Sent domestic remittances through an account - 34.60% missing\n",
      "- fin29_1: Received domestic remittances through an account - 30.30% missing\n",
      "- fin45: Financially worried: old age - 14.40% missing\n"
     ]
    }
   ],
   "source": [
    "# Calculate the percentage of missing values for each remaining column\n",
    "remaining_missing_percentage = (ghana_df.isnull().sum() / len(ghana_df)) * 100\n",
    "\n",
    "# Filter to include only columns with missing values between 0% and 40%\n",
    "filtered_missing = remaining_missing_percentage[(remaining_missing_percentage > 0) & (remaining_missing_percentage <= 40)]\n",
    "\n",
    "# Dictionary to map column names to their descriptions\n",
    "column_descriptions = {\n",
    "    \"age\": \"Respondent's age\",\n",
    "    \"fin1_1a\": \"Opened first account to receive a wage payment\",\n",
    "    \"fin1_1b\": \"Opened first account to receive money from the government\",\n",
    "    \"fin4\": \"Used a debit card\",\n",
    "    \"fin4a\": \"Used a debit card in-store\",\n",
    "    \"fin5\": \"Used mobile phone or internet to access financial account\",\n",
    "    \"fin6\": \"Used mobile phone or internet to check account balance\",\n",
    "    \"fin7\": \"Has a credit card\",\n",
    "    \"fin9\": \"Made any deposit into the account\",\n",
    "    \"fin9a\": \"Make deposits into the account two or more times per month\",\n",
    "    \"fin10\": \"Withdrew from the account\",\n",
    "    \"fin10a\": \"Withdrew from the account two or more times per month\",\n",
    "    \"fin10b\": \"Used account to store money\",\n",
    "    \"fin11a\": \"Reason for no account: too far\",\n",
    "    \"fin11b\": \"Reason for no account: too expensive\",\n",
    "    \"fin11c\": \"Reason for no account: lack documentation\",\n",
    "    \"fin11d\": \"Reason for no account: lack trust\",\n",
    "    \"fin11e\": \"Reason for no account: religious reasons\",\n",
    "    \"fin11f\": \"Reason for no account: lack money\",\n",
    "    \"fin11g\": \"Reason for no account: family member already has one\",\n",
    "    \"fin11h\": \"Reason for no account: no need for financial services\",\n",
    "    \"fin13a\": \"Use mobile money account two or more times a month\",\n",
    "    \"fin13b\": \"Use mobile money account to store money\",\n",
    "    \"fin13c\": \"Use mobile money account to borrow money\",\n",
    "    \"fin13d\": \"Use mobile money account without help\",\n",
    "    \"fin17a1\": \"Saved using a mobile money account\",\n",
    "    \"fin24a\": \"Difficulty of emergency funds in 30 days\",\n",
    "    \"fin24b\": \"Difficulty of emergency funds in 7 days\",\n",
    "    \"fin27_1\": \"Sent domestic remittances through an account\",\n",
    "    \"fin29_1\": \"Received domestic remittances through an account\",\n",
    "    \"fin31a\": \"Paid a utility bill using an account\",\n",
    "    \"fin31b\": \"Paid a utility bill using a mobile phone\",\n",
    "    \"fin33\": \"Received public sector wage payments\",\n",
    "    \"fin34a\": \"Received wage payments into an account\",\n",
    "    \"fin34b\": \"Received wage payments to a mobile phone\",\n",
    "    \"fin42a\": \"Grow own crops or raise livestock\",\n",
    "    \"fin45\": \"Financially worried: old age\"\n",
    "}\n",
    "\n",
    "# Display the results without recommendations\n",
    "print(\"Remaining columns with missing values (0-40%):\\n\")\n",
    "for col, perc in filtered_missing.items():\n",
    "    description = column_descriptions.get(col, \"Description not available\")\n",
    "    print(f\"- {col}: {description} - {perc:.2f}% missing\")\n"
   ]
  },
  {
   "cell_type": "markdown",
   "metadata": {
    "id": "-cdEWf8xSElB"
   },
   "source": [
    "#### Remaining Columns After Previous Cleaning"
   ]
  },
  {
   "cell_type": "code",
   "execution_count": 6,
   "metadata": {
    "colab": {
     "base_uri": "https://localhost:8080/"
    },
    "id": "sAA8mdDXRWq7",
    "outputId": "03181896-43b1-4900-a650-8300afcd932b"
   },
   "outputs": [
    {
     "name": "stdout",
     "output_type": "stream",
     "text": [
      "Remaining columns after previous cleaning steps:\n",
      "['economy', 'economycode', 'regionwb', 'pop_adult', 'wpid_random', 'wgt', 'female', 'age', 'educ', 'inc_q', 'emp_in', 'urbanicity_f2f', 'account', 'account_fin', 'account_mob', 'fin2', 'fin13a', 'fin13b', 'fin13c', 'fin13d', 'fin14_1', 'fin14a', 'fin14a1', 'fin14b', 'fin16', 'fin17a', 'fin17a1', 'fin17b', 'fin20', 'fin22a', 'fin22b', 'fin24', 'fin24a', 'fin24b', 'fin26', 'fin27_1', 'fin28', 'fin29_1', 'fin30', 'fin32', 'fin37', 'fin38', 'fin42', 'fin44a', 'fin44b', 'fin44c', 'fin44d', 'fin45', 'fin45_1', 'saved', 'borrowed', 'receive_wages', 'receive_transfers', 'receive_pension', 'receive_agriculture', 'pay_utilities', 'remittances', 'mobileowner', 'internetaccess', 'anydigpayment', 'merchantpay_dig', 'year']\n",
      "Total columns: 62\n"
     ]
    }
   ],
   "source": [
    "print(\"Remaining columns after previous cleaning steps:\")\n",
    "print(ghana_df.columns.tolist())\n",
    "print(f\"Total columns: {len(ghana_df.columns)}\")"
   ]
  },
  {
   "cell_type": "markdown",
   "metadata": {
    "id": "2Unhqf5su2nf"
   },
   "source": [
    "#### Accessing columns with No Missing Values"
   ]
  },
  {
   "cell_type": "markdown",
   "metadata": {
    "id": "DTYYDuMOSqjP"
   },
   "source": [
    "##### Drop Irrelevant or Redundant Columns"
   ]
  },
  {
   "cell_type": "code",
   "execution_count": 7,
   "metadata": {
    "colab": {
     "base_uri": "https://localhost:8080/"
    },
    "id": "ucgrFeuZSvc4",
    "outputId": "7eeea417-849e-49fa-ca4b-73fd1dcc8fc3"
   },
   "outputs": [
    {
     "name": "stdout",
     "output_type": "stream",
     "text": [
      "Shape of the dataset after dropping irrelevant columns:\n",
      "(1000, 58)\n",
      "Remaining columns after dropping irrelevant ones:\n",
      "['pop_adult', 'wgt', 'female', 'age', 'educ', 'inc_q', 'emp_in', 'urbanicity_f2f', 'account', 'account_fin', 'account_mob', 'fin2', 'fin13a', 'fin13b', 'fin13c', 'fin13d', 'fin14_1', 'fin14a', 'fin14a1', 'fin14b', 'fin16', 'fin17a', 'fin17a1', 'fin17b', 'fin20', 'fin22a', 'fin22b', 'fin24', 'fin24a', 'fin24b', 'fin26', 'fin27_1', 'fin28', 'fin29_1', 'fin30', 'fin32', 'fin37', 'fin38', 'fin42', 'fin44a', 'fin44b', 'fin44c', 'fin44d', 'fin45', 'fin45_1', 'saved', 'borrowed', 'receive_wages', 'receive_transfers', 'receive_pension', 'receive_agriculture', 'pay_utilities', 'remittances', 'mobileowner', 'internetaccess', 'anydigpayment', 'merchantpay_dig', 'year']\n"
     ]
    }
   ],
   "source": [
    "# List of columns to drop based on relevance analysis\n",
    "columns_to_drop = [\n",
    "    \"economy\",       # Redundant after filtering for Ghana\n",
    "    \"economycode\",   # Redundant after filtering for Ghana\n",
    "    \"regionwb\",      # Redundant after filtering for Ghana\n",
    "    \"wpid_random\"    # Random identifier, no analytical value\n",
    "]\n",
    "\n",
    "# Drop the identified columns\n",
    "ghana_df = ghana_df.drop(columns=columns_to_drop)\n",
    "\n",
    "# Check the shape of the dataset after dropping columns\n",
    "print(\"Shape of the dataset after dropping irrelevant columns:\")\n",
    "print(ghana_df.shape)\n",
    "\n",
    "# Display the remaining columns to ensure correct dropping\n",
    "print(\"Remaining columns after dropping irrelevant ones:\")\n",
    "print(ghana_df.columns.tolist())\n"
   ]
  },
  {
   "cell_type": "markdown",
   "metadata": {
    "id": "c-CPfw1vD2vq"
   },
   "source": [
    "#### Keep track of columns we dropped"
   ]
  },
  {
   "cell_type": "code",
   "execution_count": 8,
   "metadata": {
    "colab": {
     "base_uri": "https://localhost:8080/"
    },
    "id": "zbTZn411D0lk",
    "outputId": "b7ae0a7b-37d1-4462-ab78-e6fe798b8d5c"
   },
   "outputs": [
    {
     "name": "stdout",
     "output_type": "stream",
     "text": [
      "List of Dropped Columns:\n",
      "   Dropped Columns\n",
      "0         fin10_1a\n",
      "1         fin10_1b\n",
      "2         fin10_1c\n",
      "3         fin10_1d\n",
      "4         fin10_1e\n",
      "5          fin14_2\n",
      "6           fin14c\n",
      "7         fin14c_2\n",
      "8          fin17a1\n",
      "9           fin22c\n",
      "10         fin27c1\n",
      "11         fin27c2\n",
      "12         fin29c1\n",
      "13         fin29c2\n",
      "14          fin31a\n",
      "15          fin31b\n",
      "16         fin31b1\n",
      "17          fin34e\n",
      "18          fin39a\n",
      "19          fin39b\n",
      "20          fin39d\n",
      "21          fin39e\n",
      "22          fin43a\n",
      "23          fin43b\n",
      "24          fin43d\n",
      "25          fin43e\n",
      "26          fin13a\n",
      "27          fin13b\n",
      "28          fin13c\n",
      "29          fin13d\n",
      "30         fin27_1\n",
      "31         fin29_1\n",
      "32          fin34d\n",
      "33           fin35\n",
      "34          fin11a\n",
      "35          fin11b\n",
      "36          fin11c\n",
      "37          fin11d\n",
      "38          fin11e\n",
      "39          fin11f\n",
      "40          fin11g\n",
      "41          fin11h\n",
      "42         fin17a1\n",
      "Dropped columns have been saved to 'dropped_columns_tracking.csv'.\n"
     ]
    }
   ],
   "source": [
    "# List of columns that were dropped, excluding irrelevant ones (like China-specific and redundant Ghana columns)\n",
    "dropped_columns = [\n",
    "    # Dropped due to high missing values (50% or more)\n",
    "    \"fin10_1a\", \"fin10_1b\", \"fin10_1c\", \"fin10_1d\", \"fin10_1e\",\n",
    "    \"fin14_2\", \"fin14c\", \"fin14c_2\", \"fin17a1\", \"fin22c\",\n",
    "    \"fin27c1\", \"fin27c2\", \"fin29c1\", \"fin29c2\", \"fin31a\",\n",
    "    \"fin31b\", \"fin31b1\", \"fin34e\", \"fin39a\", \"fin39b\",\n",
    "    \"fin39d\", \"fin39e\", \"fin43a\", \"fin43b\", \"fin43d\", \"fin43e\",\n",
    "\n",
    "    # Dropped due to moderate missing values (40% to 50%)\n",
    "    \"fin13a\", \"fin13b\", \"fin13c\", \"fin13d\", \"fin27_1\",\n",
    "    \"fin29_1\", \"fin34d\", \"fin35\",\n",
    "\n",
    "    # Dropped due to lack of relevance to financial inclusion\n",
    "    \"fin11a\", \"fin11b\", \"fin11c\", \"fin11d\", \"fin11e\",\n",
    "    \"fin11f\", \"fin11g\", \"fin11h\", \"fin17a1\"\n",
    "]\n",
    "\n",
    "# Create a DataFrame for better visualization of dropped columns\n",
    "dropped_df = pd.DataFrame(dropped_columns, columns=[\"Dropped Columns\"])\n",
    "\n",
    "# Display the list of dropped columns\n",
    "print(\"List of Dropped Columns:\")\n",
    "print(dropped_df)\n",
    "\n",
    "# Save the dropped columns to a CSV file for tracking\n",
    "dropped_df.to_csv(\"dropped_columns_tracking.csv\", index=False)\n",
    "print(\"Dropped columns have been saved to 'dropped_columns_tracking.csv'.\")\n"
   ]
  },
  {
   "cell_type": "markdown",
   "metadata": {
    "id": "r9ByG5SbnzrI"
   },
   "source": [
    "### Fill Missing Values with Median (Numerical) and Mode (Categorical)"
   ]
  },
  {
   "cell_type": "code",
   "execution_count": 9,
   "metadata": {
    "colab": {
     "base_uri": "https://localhost:8080/"
    },
    "collapsed": true,
    "id": "8NKoglPLklEm",
    "outputId": "c0b0fb65-a53b-4cf4-d2ae-7f5ef61997fb"
   },
   "outputs": [
    {
     "name": "stdout",
     "output_type": "stream",
     "text": [
      "Remaining missing values after imputation:\n",
      "pop_adult              0\n",
      "wgt                    0\n",
      "female                 0\n",
      "age                    0\n",
      "educ                   0\n",
      "inc_q                  0\n",
      "emp_in                 0\n",
      "urbanicity_f2f         0\n",
      "account                0\n",
      "account_fin            0\n",
      "account_mob            0\n",
      "fin2                   0\n",
      "fin13a                 0\n",
      "fin13b                 0\n",
      "fin13c                 0\n",
      "fin13d                 0\n",
      "fin14_1                0\n",
      "fin14a                 0\n",
      "fin14a1                0\n",
      "fin14b                 0\n",
      "fin16                  0\n",
      "fin17a                 0\n",
      "fin17a1                0\n",
      "fin17b                 0\n",
      "fin20                  0\n",
      "fin22a                 0\n",
      "fin22b                 0\n",
      "fin24                  0\n",
      "fin24a                 0\n",
      "fin24b                 0\n",
      "fin26                  0\n",
      "fin27_1                0\n",
      "fin28                  0\n",
      "fin29_1                0\n",
      "fin30                  0\n",
      "fin32                  0\n",
      "fin37                  0\n",
      "fin38                  0\n",
      "fin42                  0\n",
      "fin44a                 0\n",
      "fin44b                 0\n",
      "fin44c                 0\n",
      "fin44d                 0\n",
      "fin45                  0\n",
      "fin45_1                0\n",
      "saved                  0\n",
      "borrowed               0\n",
      "receive_wages          0\n",
      "receive_transfers      0\n",
      "receive_pension        0\n",
      "receive_agriculture    0\n",
      "pay_utilities          0\n",
      "remittances            0\n",
      "mobileowner            0\n",
      "internetaccess         0\n",
      "anydigpayment          0\n",
      "merchantpay_dig        0\n",
      "year                   0\n",
      "dtype: int64\n"
     ]
    },
    {
     "name": "stderr",
     "output_type": "stream",
     "text": [
      "<ipython-input-9-bfd42771aa2c>:10: FutureWarning: A value is trying to be set on a copy of a DataFrame or Series through chained assignment using an inplace method.\n",
      "The behavior will change in pandas 3.0. This inplace method will never work because the intermediate object on which we are setting values always behaves as a copy.\n",
      "\n",
      "For example, when doing 'df[col].method(value, inplace=True)', try using 'df.method({col: value}, inplace=True)' or df[col] = df[col].method(value) instead, to perform the operation inplace on the original object.\n",
      "\n",
      "\n",
      "  ghana_df[col].fillna(median_value, inplace=True)\n"
     ]
    }
   ],
   "source": [
    "# Handling missing values using median for numerical and mode for categorical columns\n",
    "\n",
    "# Separate numerical and categorical columns\n",
    "numerical_columns = ghana_df.select_dtypes(include=['int64', 'float64']).columns\n",
    "categorical_columns = ghana_df.select_dtypes(include=['object', 'category']).columns\n",
    "\n",
    "# Apply median imputation for numerical columns\n",
    "for col in numerical_columns:\n",
    "    median_value = ghana_df[col].median()\n",
    "    ghana_df[col].fillna(median_value, inplace=True)\n",
    "\n",
    "# Apply mode imputation for categorical columns\n",
    "for col in categorical_columns:\n",
    "    mode_value = ghana_df[col].mode()[0]  # Taking the first mode if there are multiple\n",
    "    ghana_df[col].fillna(mode_value, inplace=True)\n",
    "\n",
    "# Check if there are still any missing values left\n",
    "print(\"Remaining missing values after imputation:\")\n",
    "print(ghana_df.isnull().sum())\n"
   ]
  },
  {
   "cell_type": "markdown",
   "metadata": {
    "id": "5tphoHxlwk6G"
   },
   "source": [
    "#### Check Duplicates"
   ]
  },
  {
   "cell_type": "code",
   "execution_count": 10,
   "metadata": {
    "colab": {
     "base_uri": "https://localhost:8080/"
    },
    "id": "Id-UvxkQwivU",
    "outputId": "dc3393ff-b23a-452f-d15f-fd4e965159fa"
   },
   "outputs": [
    {
     "name": "stdout",
     "output_type": "stream",
     "text": [
      "Number of duplicate rows before removal: 0\n",
      "Shape of the dataset after duplicate removal: (1000, 58)\n"
     ]
    }
   ],
   "source": [
    "# Checking for duplicate rows\n",
    "print(\"Number of duplicate rows before removal:\", ghana_df.duplicated().sum())\n",
    "\n",
    "# Remove duplicate rows if any\n",
    "ghana_df = ghana_df.drop_duplicates()\n",
    "\n",
    "# Check the shape after removing duplicates\n",
    "print(\"Shape of the dataset after duplicate removal:\", ghana_df.shape)\n"
   ]
  },
  {
   "cell_type": "code",
   "execution_count": 11,
   "metadata": {
    "colab": {
     "base_uri": "https://localhost:8080/"
    },
    "id": "db4mBiVVryzN",
    "outputId": "ec54f598-fbab-48a0-b204-3d3fefe3f6d0"
   },
   "outputs": [
    {
     "name": "stdout",
     "output_type": "stream",
     "text": [
      "Current columns in the dataset after dropping duplicates:\n",
      "['pop_adult', 'wgt', 'female', 'age', 'educ', 'inc_q', 'emp_in', 'urbanicity_f2f', 'account', 'account_fin', 'account_mob', 'fin2', 'fin13a', 'fin13b', 'fin13c', 'fin13d', 'fin14_1', 'fin14a', 'fin14a1', 'fin14b', 'fin16', 'fin17a', 'fin17a1', 'fin17b', 'fin20', 'fin22a', 'fin22b', 'fin24', 'fin24a', 'fin24b', 'fin26', 'fin27_1', 'fin28', 'fin29_1', 'fin30', 'fin32', 'fin37', 'fin38', 'fin42', 'fin44a', 'fin44b', 'fin44c', 'fin44d', 'fin45', 'fin45_1', 'saved', 'borrowed', 'receive_wages', 'receive_transfers', 'receive_pension', 'receive_agriculture', 'pay_utilities', 'remittances', 'mobileowner', 'internetaccess', 'anydigpayment', 'merchantpay_dig', 'year']\n",
      "Total number of columns: 58\n"
     ]
    }
   ],
   "source": [
    "# Display all columns in the dataset after dropping duplicates\n",
    "print(\"Current columns in the dataset after dropping duplicates:\")\n",
    "print(ghana_df.columns.tolist())\n",
    "print(f\"Total number of columns: {len(ghana_df.columns)}\")\n"
   ]
  },
  {
   "cell_type": "markdown",
   "metadata": {
    "id": "nVND0S24yooH"
   },
   "source": [
    "### Accessing Outliers and Invalid Responses"
   ]
  },
  {
   "cell_type": "code",
   "execution_count": 12,
   "metadata": {
    "colab": {
     "base_uri": "https://localhost:8080/"
    },
    "collapsed": true,
    "id": "cDpdHM6SyunL",
    "outputId": "1c7f5889-9a01-41bb-affd-5191e971ada9"
   },
   "outputs": [
    {
     "name": "stdout",
     "output_type": "stream",
     "text": [
      "Invalid Age Entries:\n",
      "Empty DataFrame\n",
      "Columns: [pop_adult, wgt, female, age, educ, inc_q, emp_in, urbanicity_f2f, account, account_fin, account_mob, fin2, fin13a, fin13b, fin13c, fin13d, fin14_1, fin14a, fin14a1, fin14b, fin16, fin17a, fin17a1, fin17b, fin20, fin22a, fin22b, fin24, fin24a, fin24b, fin26, fin27_1, fin28, fin29_1, fin30, fin32, fin37, fin38, fin42, fin44a, fin44b, fin44c, fin44d, fin45, fin45_1, saved, borrowed, receive_wages, receive_transfers, receive_pension, receive_agriculture, pay_utilities, remittances, mobileowner, internetaccess, anydigpayment, merchantpay_dig, year]\n",
      "Index: []\n",
      "\n",
      "[0 rows x 58 columns]\n",
      "\n",
      "Invalid Population of Adults Entries:\n",
      "Empty DataFrame\n",
      "Columns: [pop_adult, wgt, female, age, educ, inc_q, emp_in, urbanicity_f2f, account, account_fin, account_mob, fin2, fin13a, fin13b, fin13c, fin13d, fin14_1, fin14a, fin14a1, fin14b, fin16, fin17a, fin17a1, fin17b, fin20, fin22a, fin22b, fin24, fin24a, fin24b, fin26, fin27_1, fin28, fin29_1, fin30, fin32, fin37, fin38, fin42, fin44a, fin44b, fin44c, fin44d, fin45, fin45_1, saved, borrowed, receive_wages, receive_transfers, receive_pension, receive_agriculture, pay_utilities, remittances, mobileowner, internetaccess, anydigpayment, merchantpay_dig, year]\n",
      "Index: []\n",
      "\n",
      "[0 rows x 58 columns]\n",
      "\n",
      "Invalid Weight Entries:\n",
      "Empty DataFrame\n",
      "Columns: [pop_adult, wgt, female, age, educ, inc_q, emp_in, urbanicity_f2f, account, account_fin, account_mob, fin2, fin13a, fin13b, fin13c, fin13d, fin14_1, fin14a, fin14a1, fin14b, fin16, fin17a, fin17a1, fin17b, fin20, fin22a, fin22b, fin24, fin24a, fin24b, fin26, fin27_1, fin28, fin29_1, fin30, fin32, fin37, fin38, fin42, fin44a, fin44b, fin44c, fin44d, fin45, fin45_1, saved, borrowed, receive_wages, receive_transfers, receive_pension, receive_agriculture, pay_utilities, remittances, mobileowner, internetaccess, anydigpayment, merchantpay_dig, year]\n",
      "Index: []\n",
      "\n",
      "[0 rows x 58 columns]\n",
      "\n",
      "Invalid Income Quintile Entries:\n",
      "Empty DataFrame\n",
      "Columns: [pop_adult, wgt, female, age, educ, inc_q, emp_in, urbanicity_f2f, account, account_fin, account_mob, fin2, fin13a, fin13b, fin13c, fin13d, fin14_1, fin14a, fin14a1, fin14b, fin16, fin17a, fin17a1, fin17b, fin20, fin22a, fin22b, fin24, fin24a, fin24b, fin26, fin27_1, fin28, fin29_1, fin30, fin32, fin37, fin38, fin42, fin44a, fin44b, fin44c, fin44d, fin45, fin45_1, saved, borrowed, receive_wages, receive_transfers, receive_pension, receive_agriculture, pay_utilities, remittances, mobileowner, internetaccess, anydigpayment, merchantpay_dig, year]\n",
      "Index: []\n",
      "\n",
      "[0 rows x 58 columns]\n",
      "\n",
      "Summary of Invalid Entries:\n",
      "Number of invalid age entries: 0\n",
      "Number of invalid pop_adult entries: 0\n",
      "Number of invalid weight entries: 0\n",
      "Number of invalid income quintile entries: 0\n"
     ]
    }
   ],
   "source": [
    "# Validity check for numerical columns: age, pop_adult, wgt, inc_q\n",
    "\n",
    "# Step 1: Age - Check for unrealistic values (e.g., age > 100 or age < 0)\n",
    "invalid_age = ghana_df[(ghana_df['age'] < 0) | (ghana_df['age'] > 100)]\n",
    "print(\"Invalid Age Entries:\")\n",
    "print(invalid_age)\n",
    "\n",
    "# Step 2: Population of Adults (pop_adult) - Check for negative or zero values\n",
    "invalid_pop_adult = ghana_df[ghana_df['pop_adult'] <= 0]\n",
    "print(\"\\nInvalid Population of Adults Entries:\")\n",
    "print(invalid_pop_adult)\n",
    "\n",
    "# Step 3: Weight (wgt) - Check for negative or zero values\n",
    "invalid_wgt = ghana_df[ghana_df['wgt'] <= 0]\n",
    "print(\"\\nInvalid Weight Entries:\")\n",
    "print(invalid_wgt)\n",
    "\n",
    "# Step 4: Income Quintile (inc_q) - Check for values outside the range 1-5\n",
    "invalid_inc_q = ghana_df[(ghana_df['inc_q'] < 1) | (ghana_df['inc_q'] > 5)]\n",
    "print(\"\\nInvalid Income Quintile Entries:\")\n",
    "print(invalid_inc_q)\n",
    "\n",
    "# Print a summary of the validity check\n",
    "print(\"\\nSummary of Invalid Entries:\")\n",
    "print(f\"Number of invalid age entries: {len(invalid_age)}\")\n",
    "print(f\"Number of invalid pop_adult entries: {len(invalid_pop_adult)}\")\n",
    "print(f\"Number of invalid weight entries: {len(invalid_wgt)}\")\n",
    "print(f\"Number of invalid income quintile entries: {len(invalid_inc_q)}\")\n"
   ]
  },
  {
   "cell_type": "markdown",
   "metadata": {
    "id": "4QyflqW30Yfw"
   },
   "source": [
    "#### Encode Categorical Variables to Numerical for Logistic Regression"
   ]
  },
  {
   "cell_type": "code",
   "execution_count": null,
   "metadata": {
    "colab": {
     "base_uri": "https://localhost:8080/"
    },
    "id": "QropUnzY0gQU",
    "outputId": "269251dd-6a28-41ba-9835-af17e4708c78"
   },
   "outputs": [
    {
     "name": "stdout",
     "output_type": "stream",
     "text": [
      "Data after encoding categorical variables:\n",
      "        pop_adult       wgt  female   age  inc_q  account  account_fin  \\\n",
      "48595  19535202.0  0.913661       1  35.0      5        1            1   \n",
      "48596  19535202.0  0.790860       1  26.0      3        1            1   \n",
      "48597  19535202.0  1.372293       0  45.0      3        1            1   \n",
      "48598  19535202.0  0.412676       1  42.0      1        1            1   \n",
      "48599  19535202.0  1.252679       1  53.0      3        0            0   \n",
      "\n",
      "       account_mob  fin2  fin13a  ...  mobileowner  internetaccess  \\\n",
      "48595            1     2     2.0  ...            0               0   \n",
      "48596            1     1     1.0  ...            0               0   \n",
      "48597            0     2     1.0  ...            0               1   \n",
      "48598            1     2     1.0  ...            0               1   \n",
      "48599            0     2     1.0  ...            0               1   \n",
      "\n",
      "       anydigpayment  merchantpay_dig  year  educ_2  educ_3  educ_5  \\\n",
      "48595              1              0.0  2021    True   False   False   \n",
      "48596              1              0.0  2021   False   False   False   \n",
      "48597              1              0.0  2021   False   False   False   \n",
      "48598              1              1.0  2021    True   False   False   \n",
      "48599              0              0.0  2021   False   False   False   \n",
      "\n",
      "       urbanicity_f2f_2.0  emp_in_2.0  \n",
      "48595                True        True  \n",
      "48596               False       False  \n",
      "48597                True       False  \n",
      "48598                True       False  \n",
      "48599               False       False  \n",
      "\n",
      "[5 rows x 60 columns]\n"
     ]
    }
   ],
   "source": [
    "from sklearn.preprocessing import LabelEncoder\n",
    "\n",
    "# Identify binary and multi-category categorical columns\n",
    "binary_cols = ['female', 'mobileowner', 'internetaccess', 'account_fin', 'account_mob']\n",
    "multi_category_cols = ['educ', 'urbanicity_f2f', 'emp_in']\n",
    "\n",
    "# Apply Label Encoding to binary categorical variables\n",
    "label_encoder = LabelEncoder()\n",
    "for col in binary_cols:\n",
    "    ghana_df[col] = label_encoder.fit_transform(ghana_df[col])\n",
    "\n",
    "# Apply One-Hot Encoding to multi-category categorical variables\n",
    "ghana_df = pd.get_dummies(ghana_df, columns=multi_category_cols, drop_first=True)\n",
    "\n",
    "# Display the updated DataFrame to check the encoded columns\n",
    "print(\"Data after encoding categorical variables:\")\n",
    "print(ghana_df.head())\n"
   ]
  },
  {
   "cell_type": "markdown",
   "metadata": {
    "id": "loxEqRga2OYj"
   },
   "source": [
    "#### Convert Boolean Values to Integers and Verify Data Types"
   ]
  },
  {
   "cell_type": "code",
   "execution_count": 13,
   "metadata": {
    "colab": {
     "base_uri": "https://localhost:8080/"
    },
    "collapsed": true,
    "id": "7da-4gDP0tT-",
    "outputId": "b07dbdbe-72cd-4058-898c-6f7f44ff3204"
   },
   "outputs": [
    {
     "name": "stdout",
     "output_type": "stream",
     "text": [
      "Data types after converting boolean to integers (using map):\n",
      "pop_adult              float64\n",
      "wgt                    float64\n",
      "female                   int64\n",
      "age                    float64\n",
      "educ                     int64\n",
      "inc_q                    int64\n",
      "emp_in                 float64\n",
      "urbanicity_f2f         float64\n",
      "account                  int64\n",
      "account_fin              int64\n",
      "account_mob            float64\n",
      "fin2                     int64\n",
      "fin13a                 float64\n",
      "fin13b                 float64\n",
      "fin13c                 float64\n",
      "fin13d                 float64\n",
      "fin14_1                  int64\n",
      "fin14a                   int64\n",
      "fin14a1                  int64\n",
      "fin14b                   int64\n",
      "fin16                    int64\n",
      "fin17a                   int64\n",
      "fin17a1                float64\n",
      "fin17b                 float64\n",
      "fin20                    int64\n",
      "fin22a                   int64\n",
      "fin22b                   int64\n",
      "fin24                    int64\n",
      "fin24a                 float64\n",
      "fin24b                 float64\n",
      "fin26                  float64\n",
      "fin27_1                float64\n",
      "fin28                  float64\n",
      "fin29_1                float64\n",
      "fin30                    int64\n",
      "fin32                    int64\n",
      "fin37                    int64\n",
      "fin38                    int64\n",
      "fin42                  float64\n",
      "fin44a                   int64\n",
      "fin44b                   int64\n",
      "fin44c                   int64\n",
      "fin44d                   int64\n",
      "fin45                  float64\n",
      "fin45_1                float64\n",
      "saved                    int64\n",
      "borrowed                 int64\n",
      "receive_wages            int64\n",
      "receive_transfers        int64\n",
      "receive_pension          int64\n",
      "receive_agriculture    float64\n",
      "pay_utilities            int64\n",
      "remittances            float64\n",
      "mobileowner              int64\n",
      "internetaccess           int64\n",
      "anydigpayment            int64\n",
      "merchantpay_dig        float64\n",
      "year                     int64\n",
      "dtype: object\n",
      "\n",
      "Sample data after conversion:\n",
      "        pop_adult       wgt  female   age  educ  inc_q  emp_in  \\\n",
      "48595  19535202.0  0.913661       2  35.0     2      5     2.0   \n",
      "48596  19535202.0  0.790860       2  26.0     1      3     1.0   \n",
      "48597  19535202.0  1.372293       1  45.0     1      3     1.0   \n",
      "48598  19535202.0  0.412676       2  42.0     2      1     1.0   \n",
      "48599  19535202.0  1.252679       2  53.0     1      3     1.0   \n",
      "\n",
      "       urbanicity_f2f  account  account_fin  ...  receive_transfers  \\\n",
      "48595             2.0        1            1  ...                  4   \n",
      "48596             1.0        1            1  ...                  4   \n",
      "48597             2.0        1            1  ...                  4   \n",
      "48598             2.0        1            1  ...                  4   \n",
      "48599             1.0        0            0  ...                  4   \n",
      "\n",
      "       receive_pension  receive_agriculture  pay_utilities  remittances  \\\n",
      "48595                4                  4.0              2          2.0   \n",
      "48596                4                  4.0              2          1.0   \n",
      "48597                4                  4.0              2          1.0   \n",
      "48598                4                  4.0              4          1.0   \n",
      "48599                4                  2.0              4          5.0   \n",
      "\n",
      "       mobileowner  internetaccess  anydigpayment  merchantpay_dig  year  \n",
      "48595            1               1              1              0.0  2021  \n",
      "48596            1               1              1              0.0  2021  \n",
      "48597            1               2              1              0.0  2021  \n",
      "48598            1               2              1              1.0  2021  \n",
      "48599            1               2              0              0.0  2021  \n",
      "\n",
      "[5 rows x 58 columns]\n"
     ]
    }
   ],
   "source": [
    "# Convert boolean columns to integers (0 and 1) using map to avoid deprecation warning\n",
    "ghana_df = ghana_df.apply(lambda x: x.map({True: 1, False: 0}) if x.dtypes == 'bool' else x)\n",
    "\n",
    "# Verify the data types of all columns after conversion\n",
    "print(\"Data types after converting boolean to integers (using map):\")\n",
    "print(ghana_df.dtypes)\n",
    "\n",
    "# Check the first few rows to confirm the changes\n",
    "print(\"\\nSample data after conversion:\")\n",
    "print(ghana_df.head())\n"
   ]
  },
  {
   "cell_type": "markdown",
   "metadata": {
    "id": "Hr2sP4lu4vu3"
   },
   "source": [
    "#### Apply StandardScaler"
   ]
  },
  {
   "cell_type": "code",
   "execution_count": null,
   "metadata": {
    "colab": {
     "base_uri": "https://localhost:8080/"
    },
    "id": "59fl5MvA4nVC",
    "outputId": "a72c8175-945f-4295-8d76-785c6d2651fe"
   },
   "outputs": [
    {
     "name": "stdout",
     "output_type": "stream",
     "text": [
      "Data after scaling numerical features:\n",
      "       pop_adult       wgt       age\n",
      "48595        0.0 -0.124867  0.236888\n",
      "48596        0.0 -0.302468 -0.480713\n",
      "48597        0.0  0.538427  1.034223\n",
      "48598        0.0 -0.849415  0.795023\n",
      "48599        0.0  0.365435  1.672092\n"
     ]
    }
   ],
   "source": [
    "from sklearn.preprocessing import StandardScaler\n",
    "\n",
    "# Identifying numerical columns that need scaling\n",
    "numerical_cols = ['pop_adult', 'wgt', 'age']\n",
    "\n",
    "# Initializing the StandardScaler\n",
    "scaler = StandardScaler()\n",
    "\n",
    "# Applying the scaler to the numerical columns\n",
    "ghana_df[numerical_cols] = scaler.fit_transform(ghana_df[numerical_cols])\n",
    "\n",
    "# Displaying the scaled data to verify the transformation\n",
    "print(\"Data after scaling numerical features:\")\n",
    "print(ghana_df[numerical_cols].head())\n"
   ]
  },
  {
   "cell_type": "markdown",
   "metadata": {
    "id": "xKzjFmbE745W"
   },
   "source": [
    "#### Check mean and standard deviation of scaled columns"
   ]
  },
  {
   "cell_type": "code",
   "execution_count": null,
   "metadata": {
    "colab": {
     "base_uri": "https://localhost:8080/"
    },
    "id": "a23Q1E4c5EGd",
    "outputId": "83c64e8b-a3a0-4880-a6fc-5553ca2b5bb1"
   },
   "outputs": [
    {
     "name": "stdout",
     "output_type": "stream",
     "text": [
      "Mean of scaled columns:\n",
      "pop_adult    0.000000e+00\n",
      "wgt          1.776357e-17\n",
      "age         -2.646772e-16\n",
      "dtype: float64\n",
      "\n",
      "Standard deviation of scaled columns:\n",
      "pop_adult    0.0000\n",
      "wgt          1.0005\n",
      "age          1.0005\n",
      "dtype: float64\n",
      "\n",
      "Sample scaled data:\n",
      "       pop_adult       wgt       age\n",
      "48595        0.0 -0.124867  0.236888\n",
      "48596        0.0 -0.302468 -0.480713\n",
      "48597        0.0  0.538427  1.034223\n",
      "48598        0.0 -0.849415  0.795023\n",
      "48599        0.0  0.365435  1.672092\n"
     ]
    }
   ],
   "source": [
    "# Checking the mean and standard deviation of scaled columns\n",
    "print(\"Mean of scaled columns:\")\n",
    "print(ghana_df[numerical_cols].mean())\n",
    "\n",
    "print(\"\\nStandard deviation of scaled columns:\")\n",
    "print(ghana_df[numerical_cols].std())\n",
    "\n",
    "# Displaying a few rows to see the scaled data\n",
    "print(\"\\nSample scaled data:\")\n",
    "print(ghana_df[numerical_cols].head())\n"
   ]
  },
  {
   "cell_type": "markdown",
   "metadata": {
    "id": "HWv04tT94ySI"
   },
   "source": [
    "##### Save cleaned dataframe"
   ]
  },
  {
   "cell_type": "code",
   "execution_count": null,
   "metadata": {
    "id": "reYU0q1W4w7l"
   },
   "outputs": [],
   "source": [
    "# Save the final cleaned dataset to a new variable\n",
    "ghana_cleaned_df = ghana_df.copy()\n"
   ]
  },
  {
   "cell_type": "markdown",
   "metadata": {
    "id": "Xv7SJVZr7FVY"
   },
   "source": [
    "# Logistic Regression Model 1"
   ]
  },
  {
   "cell_type": "markdown",
   "metadata": {
    "id": "tO70z6648y88"
   },
   "source": [
    "### Data Preprocessing"
   ]
  },
  {
   "cell_type": "markdown",
   "metadata": {
    "id": "N74-4zAvgZNg"
   },
   "source": [
    "#### Drop Problematic columns\n",
    "\n",
    "Dropping problematic variables that make the model too easy to predict\n",
    "These variables directly indicate account ownership or usage, which biases the model."
   ]
  },
  {
   "cell_type": "code",
   "execution_count": null,
   "metadata": {
    "colab": {
     "base_uri": "https://localhost:8080/"
    },
    "id": "kNobgYzk6iFL",
    "outputId": "681ff018-992f-4889-cfac-c2f7e5aedba3"
   },
   "outputs": [
    {
     "name": "stdout",
     "output_type": "stream",
     "text": [
      "Shape of the dataset after dropping specified columns:\n",
      "(1000, 10)\n",
      "Remaining columns after dropping specified ones:\n",
      "['female', 'age', 'inc_q', 'account_fin', 'fin22b', 'educ_2', 'educ_3', 'educ_5', 'urbanicity_f2f_2.0', 'emp_in_2.0']\n"
     ]
    }
   ],
   "source": [
    "# Drop Irrelevant or Problematic Columns\n",
    "columns_to_drop = [\n",
    "    # High Risk of Bias\n",
    "    'account_mob', 'anydigpayment', 'merchantpay_dig', 'receive_wages', 'receive_transfers',\n",
    "    'receive_pension', 'receive_agriculture', 'pay_utilities', 'remittances', 'fin17a',\n",
    "    'fin17a1', 'fin32', 'fin37', 'fin38', 'saved', 'borrowed', 'fin42', 'mobileowner',\n",
    "    'internetaccess', 'wgt', 'account', 'fin2', 'fin13a', 'fin13b', 'fin13c', 'fin13d',\n",
    "    'fin14_1', 'fin14a', 'fin14a1', 'fin14b', 'fin16', 'fin17b', 'fin20', 'fin22a',\n",
    "    'fin24', 'fin24a', 'fin24b', 'fin26', 'fin27_1', 'fin28', 'fin29_1', 'fin30', 'pop_adult',\n",
    "    'year',\n",
    "    # Financial Worry Variables\n",
    "    'fin44a', 'fin44b', 'fin44c', 'fin44d', 'fin45', 'fin45_1'\n",
    "]\n",
    "\n",
    "# Drop the columns from the dataset\n",
    "ghana_df = ghana_df.drop(columns=columns_to_drop)\n",
    "\n",
    "# Check the shape of the dataset after dropping columns\n",
    "print(\"Shape of the dataset after dropping specified columns:\")\n",
    "print(ghana_df.shape)\n",
    "\n",
    "# Display the remaining columns to ensure correctness\n",
    "print(\"Remaining columns after dropping specified ones:\")\n",
    "print(ghana_df.columns.tolist())\n"
   ]
  },
  {
   "cell_type": "markdown",
   "metadata": {
    "id": "zS-7GJxfKvhc"
   },
   "source": [
    "##### Feature Engineering"
   ]
  },
  {
   "cell_type": "code",
   "execution_count": null,
   "metadata": {
    "colab": {
     "base_uri": "https://localhost:8080/"
    },
    "id": "Y2KwvUIB7JU2",
    "outputId": "72d0a4e2-6540-4ee2-f98e-8d96dc27229f"
   },
   "outputs": [
    {
     "name": "stdout",
     "output_type": "stream",
     "text": [
      "New interaction columns added:\n",
      "       income_education  urban_employment\n",
      "48595                 5                 1\n",
      "48596                 0                 0\n",
      "48597                 0                 0\n",
      "48598                 1                 0\n",
      "48599                 0                 0\n"
     ]
    }
   ],
   "source": [
    "# Feature Engineering: Creating interaction terms\n",
    "ghana_df['income_education'] = ghana_df['inc_q'] * (ghana_df['educ_2'] + ghana_df['educ_3'])\n",
    "ghana_df['urban_employment'] = ghana_df['urbanicity_f2f_2.0'] * ghana_df['emp_in_2.0']\n",
    "\n",
    "# Display the new columns to verify\n",
    "print(\"New interaction columns added:\")\n",
    "print(ghana_df[['income_education', 'urban_employment']].head())\n"
   ]
  },
  {
   "cell_type": "markdown",
   "metadata": {
    "id": "xq2pApgsN1Wd"
   },
   "source": [
    "#### Step 1: Splitting the Data - Training and Testing Sets for account_fin"
   ]
  },
  {
   "cell_type": "markdown",
   "metadata": {
    "id": "Rqk8z2jFoZW_"
   },
   "source": [
    "##### Train Test Split"
   ]
  },
  {
   "cell_type": "code",
   "execution_count": null,
   "metadata": {
    "colab": {
     "base_uri": "https://localhost:8080/"
    },
    "id": "Oa2_iMCQoYWJ",
    "outputId": "1dcbe8fd-ae21-4b74-8449-3238e2d01d22"
   },
   "outputs": [
    {
     "name": "stdout",
     "output_type": "stream",
     "text": [
      "Training data shape (X): (800, 11)\n",
      "Testing data shape (X): (200, 11)\n",
      "Training data shape (y): (800,)\n",
      "Testing data shape (y): (200,)\n"
     ]
    }
   ],
   "source": [
    "from sklearn.model_selection import train_test_split\n",
    "\n",
    "# Defining the dependent variable (target) and independent variables (features)\n",
    "X = ghana_df.drop(columns=['account_fin'])  # All columns except the target variable 'account_fin'\n",
    "y = ghana_df['account_fin']  # Target variable\n",
    "\n",
    "# Splitting the data into training and testing sets (80% train, 20% test)\n",
    "X_train, X_test, y_train, y_test = train_test_split(X, y, test_size=0.2, random_state=42, stratify=y)\n",
    "\n",
    "# Verifying the shape of the training and testing data\n",
    "print(\"Training data shape (X):\", X_train.shape)\n",
    "print(\"Testing data shape (X):\", X_test.shape)\n",
    "print(\"Training data shape (y):\", y_train.shape)\n",
    "print(\"Testing data shape (y):\", y_test.shape)\n"
   ]
  },
  {
   "cell_type": "markdown",
   "metadata": {
    "id": "Ome9uhiEVkPQ"
   },
   "source": [
    "##### Hyperparameter Tuning"
   ]
  },
  {
   "cell_type": "code",
   "execution_count": null,
   "metadata": {
    "colab": {
     "base_uri": "https://localhost:8080/"
    },
    "id": "hOEKmBaCVnjl",
    "outputId": "db01c252-043e-422a-d244-931deb2c70ec"
   },
   "outputs": [
    {
     "name": "stdout",
     "output_type": "stream",
     "text": [
      "Best hyperparameters:\n",
      "{'C': 10, 'max_iter': 100, 'penalty': 'l2', 'solver': 'lbfgs'}\n",
      "Accuracy of the optimized Logistic Regression model: 77.00%\n",
      "\n",
      "Classification Report:\n",
      "              precision    recall  f1-score   support\n",
      "\n",
      "           0       0.78      0.82      0.80       110\n",
      "           1       0.76      0.71      0.74        90\n",
      "\n",
      "    accuracy                           0.77       200\n",
      "   macro avg       0.77      0.76      0.77       200\n",
      "weighted avg       0.77      0.77      0.77       200\n",
      "\n"
     ]
    }
   ],
   "source": [
    "from sklearn.linear_model import LogisticRegression\n",
    "from sklearn.model_selection import GridSearchCV\n",
    "from sklearn.metrics import accuracy_score, classification_report\n",
    "\n",
    "# Define the hyperparameters and their values for tuning\n",
    "param_grid = {\n",
    "    'C': [0.01, 0.1, 1, 10],  # Regularization strength\n",
    "    'penalty': ['l2'],         # Use L2 regularization\n",
    "    'solver': ['liblinear', 'lbfgs'],  # Suitable solvers for L2\n",
    "    'max_iter': [100, 500, 1000]       # Number of iterations\n",
    "}\n",
    "\n",
    "# Initialize the logistic regression model\n",
    "log_reg = LogisticRegression(random_state=42)\n",
    "\n",
    "# GridSearchCV to find the best hyperparameters\n",
    "grid_search = GridSearchCV(log_reg, param_grid, cv=5, scoring='accuracy', n_jobs=-1)\n",
    "grid_search.fit(X_train, y_train)\n",
    "\n",
    "# Get the best hyperparameters and model\n",
    "best_params = grid_search.best_params_\n",
    "best_log_reg = grid_search.best_estimator_\n",
    "\n",
    "print(\"Best hyperparameters:\")\n",
    "print(best_params)\n",
    "\n",
    "# Predict using the best model\n",
    "y_pred = best_log_reg.predict(X_test)\n",
    "\n",
    "# Evaluate the optimized model\n",
    "accuracy = accuracy_score(y_test, y_pred)\n",
    "print(f\"Accuracy of the optimized Logistic Regression model: {accuracy * 100:.2f}%\\n\")\n",
    "\n",
    "print(\"Classification Report:\")\n",
    "print(classification_report(y_test, y_pred))\n"
   ]
  },
  {
   "cell_type": "markdown",
   "metadata": {
    "id": "FgU7-HmLWFNN"
   },
   "source": [
    "##### K Fold Cross Validation"
   ]
  },
  {
   "cell_type": "code",
   "execution_count": null,
   "metadata": {
    "colab": {
     "base_uri": "https://localhost:8080/"
    },
    "id": "GRckvIwSjMvi",
    "outputId": "35ec2f09-98bf-462b-d790-3ce475e4a3e2"
   },
   "outputs": [
    {
     "name": "stdout",
     "output_type": "stream",
     "text": [
      "K-Fold Cross-Validation (k=5) accuracy scores: [0.74  0.705 0.71  0.735 0.71 ]\n",
      "Mean accuracy: 72.00%\n",
      "Standard deviation: 1.45%\n"
     ]
    }
   ],
   "source": [
    "from sklearn.model_selection import cross_val_score\n",
    "\n",
    "# Initialize the logistic regression model with the best hyperparameters from GridSearchCV\n",
    "best_log_reg = LogisticRegression(\n",
    "    C=best_params['C'],\n",
    "    max_iter=best_params['max_iter'],\n",
    "    penalty=best_params['penalty'],\n",
    "    solver=best_params['solver'],\n",
    "    random_state=42\n",
    ")\n",
    "\n",
    "# Perform K-Fold Cross-Validation (using 5 folds)\n",
    "k = 5\n",
    "cv_scores = cross_val_score(best_log_reg, X, y, cv=k, scoring='accuracy')\n",
    "\n",
    "# Display the cross-validation scores\n",
    "print(f\"K-Fold Cross-Validation (k={k}) accuracy scores: {cv_scores}\")\n",
    "print(f\"Mean accuracy: {cv_scores.mean() * 100:.2f}%\")\n",
    "print(f\"Standard deviation: {cv_scores.std() * 100:.2f}%\")\n"
   ]
  },
  {
   "cell_type": "markdown",
   "metadata": {
    "id": "gzFKtEAK4WUz"
   },
   "source": [
    "Step 2: Initializing Logistic Regression"
   ]
  },
  {
   "cell_type": "code",
   "execution_count": null,
   "metadata": {
    "colab": {
     "base_uri": "https://localhost:8080/"
    },
    "id": "p1T4a5b7VgVg",
    "outputId": "e8feb19d-c082-4ad5-9f14-a9bb35257d9f"
   },
   "outputs": [
    {
     "name": "stdout",
     "output_type": "stream",
     "text": [
      "Final Accuracy of the Optimized Logistic Regression model: 77.00%\n",
      "\n",
      "Final Classification Report:\n",
      "              precision    recall  f1-score   support\n",
      "\n",
      "           0       0.78      0.82      0.80       110\n",
      "           1       0.76      0.71      0.74        90\n",
      "\n",
      "    accuracy                           0.77       200\n",
      "   macro avg       0.77      0.76      0.77       200\n",
      "weighted avg       0.77      0.77      0.77       200\n",
      "\n"
     ]
    }
   ],
   "source": [
    "from sklearn.metrics import accuracy_score, classification_report\n",
    "\n",
    "# Step 1: Initialize the Logistic Regression model with the best hyperparameters\n",
    "final_log_reg = LogisticRegression(\n",
    "    C=best_params['C'],\n",
    "    max_iter=best_params['max_iter'],\n",
    "    penalty=best_params['penalty'],\n",
    "    solver=best_params['solver'],\n",
    "    random_state=42\n",
    ")\n",
    "\n",
    "# Step 2: Train the model on the entire training data\n",
    "final_log_reg.fit(X_train, y_train)\n",
    "\n",
    "# Step 3: Make predictions on the test data\n",
    "y_pred_final = final_log_reg.predict(X_test)\n",
    "\n",
    "# Step 4: Evaluate the final model\n",
    "final_accuracy = accuracy_score(y_test, y_pred_final)\n",
    "print(f\"Final Accuracy of the Optimized Logistic Regression model: {final_accuracy * 100:.2f}%\\n\")\n",
    "\n",
    "# Step 5: Detailed classification report\n",
    "print(\"Final Classification Report:\")\n",
    "print(classification_report(y_test, y_pred_final))\n"
   ]
  },
  {
   "cell_type": "markdown",
   "metadata": {
    "id": "GbUv9R81xijB"
   },
   "source": [
    "# Model Interpretation"
   ]
  },
  {
   "cell_type": "markdown",
   "metadata": {
    "id": "FCvpZqnRo3Ao"
   },
   "source": [
    "#### Confusion Matrix"
   ]
  },
  {
   "cell_type": "code",
   "execution_count": null,
   "metadata": {
    "colab": {
     "base_uri": "https://localhost:8080/"
    },
    "id": "wgicNTR2xlZo",
    "outputId": "81e47b35-af4d-4228-b81e-c01e82debe0e"
   },
   "outputs": [
    {
     "data": {
      "text/plain": [
       "<Figure size 600x600 with 0 Axes>"
      ]
     },
     "metadata": {},
     "output_type": "display_data"
    },
    {
     "data": {
      "image/png": "[encoded data removed]",
      "text/plain": [
       "<Figure size 640x480 with 2 Axes>"
      ]
     },
     "metadata": {},
     "output_type": "display_data"
    }
   ],
   "source": [
    "from sklearn.metrics import confusion_matrix, ConfusionMatrixDisplay\n",
    "import matplotlib.pyplot as plt\n",
    "\n",
    "# Generate the confusion matrix\n",
    "cm = confusion_matrix(y_test, y_pred)\n",
    "\n",
    "# Plot the confusion matrix\n",
    "plt.figure(figsize=(6, 6))\n",
    "disp = ConfusionMatrixDisplay(confusion_matrix=cm, display_labels=['No Account', 'Has Account'])\n",
    "disp.plot(cmap=plt.cm.Blues, values_format='d')\n",
    "plt.title(\"Confusion Matrix for Logistic Regression Model\")\n",
    "plt.show()\n"
   ]
  },
  {
   "cell_type": "markdown",
   "metadata": {
    "id": "ouBBpHo8CHvW"
   },
   "source": [
    "#### Odds Ratios"
   ]
  },
  {
   "cell_type": "code",
   "execution_count": null,
   "metadata": {
    "colab": {
     "base_uri": "https://localhost:8080/"
    },
    "id": "lCwAIKr7yevf",
    "outputId": "451ce692-5925-4224-a1d1-a74082050585"
   },
   "outputs": [
    {
     "name": "stdout",
     "output_type": "stream",
     "text": [
      "Coefficients and Odds Ratios:\n",
      "              Variable  Coefficient  Odds Ratio\n",
      "5               educ_3     2.061229    7.855615\n",
      "8           emp_in_2.0    -1.434250    0.238294\n",
      "6               educ_5     1.376808    3.962233\n",
      "7   urbanicity_f2f_2.0     0.707611    2.029137\n",
      "10    urban_employment     0.544752    1.724181\n",
      "0               female     0.284625    1.329264\n",
      "4               educ_2     0.283927    1.328336\n",
      "1                  age     0.214403    1.239122\n",
      "9     income_education     0.211555    1.235598\n",
      "2                inc_q     0.148974    1.160643\n",
      "3               fin22b     0.028159    1.028559\n"
     ]
    },
    {
     "data": {
      "image/png": "[encoded data removed]",
      "text/plain": [
       "<Figure size 1000x600 with 1 Axes>"
      ]
     },
     "metadata": {},
     "output_type": "display_data"
    }
   ],
   "source": [
    "import pandas as pd\n",
    "import numpy as np\n",
    "import matplotlib.pyplot as plt\n",
    "from sklearn.linear_model import LogisticRegression\n",
    "\n",
    "# Step 1: Fit the logistic regression model again using the best hyperparameters\n",
    "log_reg = LogisticRegression(\n",
    "    C=best_params['C'],\n",
    "    max_iter=best_params['max_iter'],\n",
    "    penalty=best_params['penalty'],\n",
    "    solver=best_params['solver'],\n",
    "    random_state=42\n",
    ")\n",
    "\n",
    "# Fit the model to the training data\n",
    "log_reg.fit(X_train, y_train)\n",
    "\n",
    "# Step 2: Extract coefficients and calculate odds ratios\n",
    "coefficients = log_reg.coef_[0]\n",
    "odds_ratios = np.exp(coefficients)\n",
    "\n",
    "# Create a DataFrame to organize coefficients and odds ratios\n",
    "coeff_df = pd.DataFrame({\n",
    "    'Variable': X_train.columns,\n",
    "    'Coefficient': coefficients,\n",
    "    'Odds Ratio': odds_ratios\n",
    "})\n",
    "\n",
    "# Sort by the absolute value of coefficients for better visualization\n",
    "coeff_df = coeff_df.reindex(coeff_df['Coefficient'].abs().sort_values(ascending=False).index)\n",
    "\n",
    "# Display the coefficients and odds ratios\n",
    "print(\"Coefficients and Odds Ratios:\")\n",
    "print(coeff_df)\n",
    "\n",
    "# Step 3: Visualize the coefficients\n",
    "plt.figure(figsize=(10, 6))\n",
    "plt.barh(coeff_df['Variable'], coeff_df['Odds Ratio'], color='skyblue')\n",
    "plt.xlabel('Odds Ratio')\n",
    "plt.ylabel('Variables')\n",
    "plt.title('Odds Ratios of Independent Variables')\n",
    "plt.show()\n"
   ]
  },
  {
   "cell_type": "markdown",
   "metadata": {
    "id": "XTGGdTukwDrk"
   },
   "source": [
    "# Model 2 Logistic Regression"
   ]
  },
  {
   "cell_type": "markdown",
   "metadata": {
    "id": "2LuaUsoK8vzb"
   },
   "source": [
    "### Data Preprocessing"
   ]
  },
  {
   "cell_type": "markdown",
   "metadata": {
    "id": "-IvRiAYx7hpT"
   },
   "source": [
    "### Drop Irrelevant Columns"
   ]
  },
  {
   "cell_type": "code",
   "execution_count": null,
   "metadata": {
    "colab": {
     "base_uri": "https://localhost:8080/"
    },
    "id": "zRIwqp5C3dfi",
    "outputId": "2f843684-2bda-41c0-8331-aceff9f44c49"
   },
   "outputs": [
    {
     "name": "stdout",
     "output_type": "stream",
     "text": [
      "Shape of dataset after column removal and NA drop: (1000, 11)\n",
      "Remaining columns:\n",
      " ['female', 'age', 'inc_q', 'account_fin', 'fin22a', 'fin22b', 'educ_2', 'educ_3', 'educ_5', 'urbanicity_f2f_2.0', 'emp_in_2.0']\n"
     ]
    }
   ],
   "source": [
    "# Drop Irrelevant or Problematic Columns for Borrowing Model\n",
    "columns_to_drop = [\n",
    "    # High Risk of Bias\n",
    "    'account_mob', 'anydigpayment', 'merchantpay_dig', 'receive_wages', 'receive_transfers',\n",
    "    'receive_pension', 'receive_agriculture', 'pay_utilities', 'remittances', 'fin17a',\n",
    "    'fin17a1', 'fin32', 'fin37', 'fin38', 'saved', 'borrowed', 'fin42', 'mobileowner',\n",
    "    'internetaccess', 'wgt', 'account', 'fin2', 'fin13a', 'fin13b', 'fin13c', 'fin13d',\n",
    "    'fin14_1', 'fin14a', 'fin14a1', 'fin14b', 'fin16', 'fin17b', 'fin20',\n",
    "    'fin24', 'fin24a', 'fin24b', 'fin26', 'fin27_1', 'fin28', 'fin29_1', 'fin30', 'pop_adult',\n",
    "    'year',\n",
    "    # Financial Worry Variables\n",
    "    'fin44a', 'fin44b', 'fin44c', 'fin44d', 'fin45', 'fin45_1',\n",
    "    # Target from previous model\n",
    "    #'account_fin'\n",
    "]\n",
    "\n",
    "# Create a working copy and drop columns\n",
    "ghana_df_borrowing = ghana_cleaned_df.copy()\n",
    "ghana_df_borrowing = ghana_df_borrowing.drop(columns=[col for col in columns_to_drop if col in ghana_df_borrowing.columns])\n",
    "\n",
    "# Drop rows with missing target values\n",
    "ghana_df_borrowing = ghana_df_borrowing.dropna(subset=['fin22a'])\n",
    "\n",
    "# Display structure\n",
    "print(\"Shape of dataset after column removal and NA drop:\", ghana_df_borrowing.shape)\n",
    "print(\"Remaining columns:\\n\", ghana_df_borrowing.columns.tolist())\n"
   ]
  },
  {
   "cell_type": "markdown",
   "metadata": {
    "id": "GfdeUnV77mpj"
   },
   "source": [
    "### Feature Engineering"
   ]
  },
  {
   "cell_type": "code",
   "execution_count": null,
   "metadata": {
    "colab": {
     "base_uri": "https://localhost:8080/"
    },
    "id": "BHsmbCN4zbhd",
    "outputId": "9209e195-319b-4d4b-8cba-38c4887971ff"
   },
   "outputs": [
    {
     "name": "stdout",
     "output_type": "stream",
     "text": [
      "New interaction columns added:\n",
      "       income_education  urban_employment\n",
      "48595                 5                 1\n",
      "48596                 0                 0\n",
      "48597                 0                 0\n",
      "48598                 1                 0\n",
      "48599                 0                 0\n"
     ]
    }
   ],
   "source": [
    "# Feature Engineering: Creating interaction terms for the borrowing model\n",
    "ghana_df_borrowing['income_education'] = ghana_df_borrowing['inc_q'] * (\n",
    "    ghana_df_borrowing['educ_2'] + ghana_df_borrowing['educ_3']\n",
    ")\n",
    "ghana_df_borrowing['urban_employment'] = ghana_df_borrowing['urbanicity_f2f_2.0'] * ghana_df_borrowing['emp_in_2.0']\n",
    "\n",
    "# Display the new columns to verify\n",
    "print(\"New interaction columns added:\")\n",
    "print(ghana_df_borrowing[['income_education', 'urban_employment']].head())\n"
   ]
  },
  {
   "cell_type": "markdown",
   "metadata": {
    "id": "FpqU2nNf78em"
   },
   "source": [
    "### Train-Test Split"
   ]
  },
  {
   "cell_type": "code",
   "execution_count": null,
   "metadata": {
    "id": "0TWrb3y0-f8W"
   },
   "outputs": [],
   "source": [
    "#Make fin22a column Binary Data\n",
    "ghana_df_borrowing['borrowed_binary'] = ghana_df_borrowing['fin22a'].apply(lambda x: 1 if x == 1 else 0)\n"
   ]
  },
  {
   "cell_type": "code",
   "execution_count": null,
   "metadata": {
    "colab": {
     "base_uri": "https://localhost:8080/"
    },
    "id": "yJc_gm8gwI-6",
    "outputId": "442db0d2-ef0a-44fb-d6a1-0f32c879f0f2"
   },
   "outputs": [
    {
     "name": "stdout",
     "output_type": "stream",
     "text": [
      "Training data shape (X): (800, 12)\n",
      "Testing data shape (X): (200, 12)\n",
      "Training data shape (y): (800,)\n",
      "Testing data shape (y): (200,)\n"
     ]
    }
   ],
   "source": [
    "from sklearn.model_selection import train_test_split\n",
    "\n",
    "# Define the features and binary target variable\n",
    "X = ghana_df_borrowing.drop(columns=['fin22a', 'borrowed_binary'])\n",
    "y = ghana_df_borrowing['borrowed_binary']\n",
    "\n",
    "# Split into training and testing sets WITHOUT stratify to avoid error\n",
    "X_train, X_test, y_train, y_test = train_test_split(\n",
    "    X, y, test_size=0.2, random_state=42\n",
    ")\n",
    "\n",
    "# Output shape confirmation\n",
    "print(\"Training data shape (X):\", X_train.shape)\n",
    "print(\"Testing data shape (X):\", X_test.shape)\n",
    "print(\"Training data shape (y):\", y_train.shape)\n",
    "print(\"Testing data shape (y):\", y_test.shape)\n"
   ]
  },
  {
   "cell_type": "markdown",
   "metadata": {
    "id": "Wth3VI05_O75"
   },
   "source": [
    "#### Hyperparmeter Tuning"
   ]
  },
  {
   "cell_type": "code",
   "execution_count": null,
   "metadata": {
    "colab": {
     "base_uri": "https://localhost:8080/"
    },
    "id": "kaYFPH_mw1IP",
    "outputId": "9bce50bd-f27a-4caa-8ce2-c1fddfd8867f"
   },
   "outputs": [
    {
     "name": "stdout",
     "output_type": "stream",
     "text": [
      "Best hyperparameters:\n",
      "{'C': 10, 'max_iter': 100, 'penalty': 'l2', 'solver': 'liblinear'}\n",
      "Accuracy of the optimized Logistic Regression model: 67.50%\n",
      "\n",
      "Classification Report:\n",
      "              precision    recall  f1-score   support\n",
      "\n",
      "           0       0.97      0.67      0.79       185\n",
      "           1       0.15      0.73      0.25        15\n",
      "\n",
      "    accuracy                           0.68       200\n",
      "   macro avg       0.56      0.70      0.52       200\n",
      "weighted avg       0.91      0.68      0.75       200\n",
      "\n"
     ]
    }
   ],
   "source": [
    "from sklearn.linear_model import LogisticRegression\n",
    "from sklearn.model_selection import GridSearchCV\n",
    "from sklearn.metrics import accuracy_score, classification_report\n",
    "\n",
    "# Define the hyperparameters and their values for tuning\n",
    "param_grid = {\n",
    "    'C': [0.01, 0.1, 1, 10],  # Regularization strength\n",
    "    'penalty': ['l2'],        # Use L2 regularization\n",
    "    'solver': ['liblinear', 'lbfgs'],  # Suitable solvers for L2\n",
    "    'max_iter': [100, 500, 1000]       # Number of iterations\n",
    "}\n",
    "\n",
    "# Initialize the logistic regression model with class_weight balanced\n",
    "log_reg = LogisticRegression(class_weight='balanced', random_state=42)\n",
    "\n",
    "# GridSearchCV to find the best hyperparameters\n",
    "grid_search = GridSearchCV(log_reg, param_grid, cv=5, scoring='accuracy', n_jobs=-1)\n",
    "grid_search.fit(X_train, y_train)\n",
    "\n",
    "# Get the best hyperparameters and model\n",
    "best_params = grid_search.best_params_\n",
    "best_log_reg = grid_search.best_estimator_\n",
    "\n",
    "print(\"Best hyperparameters:\")\n",
    "print(best_params)\n",
    "\n",
    "# Predict using the best model\n",
    "y_pred = best_log_reg.predict(X_test)\n",
    "\n",
    "# Evaluate the optimized model\n",
    "accuracy = accuracy_score(y_test, y_pred)\n",
    "print(f\"Accuracy of the optimized Logistic Regression model: {accuracy * 100:.2f}%\\n\")\n",
    "\n",
    "print(\"Classification Report:\")\n",
    "print(classification_report(y_test, y_pred))\n"
   ]
  },
  {
   "cell_type": "markdown",
   "metadata": {
    "id": "dmtzq_0A_hNw"
   },
   "source": [
    "#### K-Fold Cross Validation"
   ]
  },
  {
   "cell_type": "code",
   "execution_count": null,
   "metadata": {
    "colab": {
     "base_uri": "https://localhost:8080/"
    },
    "id": "e2Q6yAKW5rEB",
    "outputId": "dddfe793-f5d9-492a-eb81-5af80d1ffca0"
   },
   "outputs": [
    {
     "name": "stdout",
     "output_type": "stream",
     "text": [
      "K-Fold Cross-Validation (k=5) accuracy scores: [0.715 0.695 0.66  0.675 0.735]\n",
      "Mean accuracy: 69.60%\n",
      "Standard deviation: 2.69%\n"
     ]
    }
   ],
   "source": [
    "from sklearn.model_selection import cross_val_score\n",
    "\n",
    "# Initialize the logistic regression model with the best hyperparameters and class_weight\n",
    "best_log_reg = LogisticRegression(\n",
    "    C=best_params['C'],\n",
    "    max_iter=best_params['max_iter'],\n",
    "    penalty=best_params['penalty'],\n",
    "    solver=best_params['solver'],\n",
    "    class_weight='balanced',  # 👈 Add this\n",
    "    random_state=42\n",
    ")\n",
    "\n",
    "# Perform K-Fold Cross-Validation (using 5 folds)\n",
    "k = 5\n",
    "cv_scores = cross_val_score(best_log_reg, X, y, cv=k, scoring='accuracy')\n",
    "\n",
    "# Display the cross-validation scores\n",
    "print(f\"K-Fold Cross-Validation (k={k}) accuracy scores: {cv_scores}\")\n",
    "print(f\"Mean accuracy: {cv_scores.mean() * 100:.2f}%\")\n",
    "print(f\"Standard deviation: {cv_scores.std() * 100:.2f}%\")\n"
   ]
  },
  {
   "cell_type": "markdown",
   "metadata": {
    "id": "FMflo-ai_siC"
   },
   "source": [
    "#### Initiliaze Logisitic Regression"
   ]
  },
  {
   "cell_type": "code",
   "execution_count": null,
   "metadata": {
    "colab": {
     "base_uri": "https://localhost:8080/"
    },
    "id": "YxlX3HLt5zMz",
    "outputId": "64308742-5de7-4341-d4b8-3f38d51658e9"
   },
   "outputs": [
    {
     "name": "stdout",
     "output_type": "stream",
     "text": [
      "Final Accuracy of the Optimized Logistic Regression model: 67.50%\n",
      "\n",
      "Final Classification Report:\n",
      "              precision    recall  f1-score   support\n",
      "\n",
      "           0       0.97      0.67      0.79       185\n",
      "           1       0.15      0.73      0.25        15\n",
      "\n",
      "    accuracy                           0.68       200\n",
      "   macro avg       0.56      0.70      0.52       200\n",
      "weighted avg       0.91      0.68      0.75       200\n",
      "\n"
     ]
    }
   ],
   "source": [
    "from sklearn.metrics import accuracy_score, classification_report\n",
    "\n",
    "# Step 1: Initialize the Logistic Regression model with best hyperparameters and balanced class weight\n",
    "final_log_reg = LogisticRegression(\n",
    "    C=best_params['C'],\n",
    "    max_iter=best_params['max_iter'],\n",
    "    penalty=best_params['penalty'],\n",
    "    solver=best_params['solver'],\n",
    "    class_weight='balanced',  # 👈 Add this\n",
    "    random_state=42\n",
    ")\n",
    "\n",
    "# Step 2: Train the model on the entire training data\n",
    "final_log_reg.fit(X_train, y_train)\n",
    "\n",
    "# Step 3: Make predictions on the test data\n",
    "y_pred_final = final_log_reg.predict(X_test)\n",
    "\n",
    "# Step 4: Evaluate the final model\n",
    "final_accuracy = accuracy_score(y_test, y_pred_final)\n",
    "print(f\"Final Accuracy of the Optimized Logistic Regression model: {final_accuracy * 100:.2f}%\\n\")\n",
    "\n",
    "# Step 5: Detailed classification report\n",
    "print(\"Final Classification Report:\")\n",
    "print(classification_report(y_test, y_pred_final))\n"
   ]
  },
  {
   "cell_type": "markdown",
   "metadata": {
    "id": "5uuQkng1DBn7"
   },
   "source": [
    "# Model Interpetation"
   ]
  },
  {
   "cell_type": "code",
   "execution_count": null,
   "metadata": {
    "colab": {
     "base_uri": "https://localhost:8080/",
     "height": 489
    },
    "id": "VCCBJRZF60Ya",
    "outputId": "5ff22559-714b-4777-f6a2-53d656137734"
   },
   "outputs": [
    {
     "data": {
      "text/plain": [
       "<Figure size 600x600 with 0 Axes>"
      ]
     },
     "metadata": {},
     "output_type": "display_data"
    },
    {
     "data": {
      "image/png": "[encoded data removed]",
      "text/plain": [
       "<Figure size 640x480 with 2 Axes>"
      ]
     },
     "metadata": {},
     "output_type": "display_data"
    }
   ],
   "source": [
    "from sklearn.metrics import confusion_matrix, ConfusionMatrixDisplay\n",
    "import matplotlib.pyplot as plt\n",
    "\n",
    "# Generate the confusion matrix\n",
    "cm = confusion_matrix(y_test, y_pred_final)\n",
    "\n",
    "# Plot the confusion matrix\n",
    "plt.figure(figsize=(6, 6))\n",
    "disp = ConfusionMatrixDisplay(confusion_matrix=cm, display_labels=['Did Not Borrow', 'Borrowed'])\n",
    "disp.plot(cmap=plt.cm.Blues, values_format='d')\n",
    "plt.title(\"Confusion Matrix for Logistic Regression Model (Borrowing)\")\n",
    "plt.show()\n"
   ]
  },
  {
   "cell_type": "markdown",
   "metadata": {
    "id": "ALJTNGM_DHz9"
   },
   "source": [
    "#  Odds Ratios and Coefficients"
   ]
  },
  {
   "cell_type": "code",
   "execution_count": null,
   "metadata": {
    "colab": {
     "base_uri": "https://localhost:8080/",
     "height": 850
    },
    "id": "MClB-E8ADEaC",
    "outputId": "d6eb92fa-49d6-4723-dd0d-86a170bcec16"
   },
   "outputs": [
    {
     "name": "stdout",
     "output_type": "stream",
     "text": [
      "Coefficients and Odds Ratios:\n",
      "              Variable  Coefficient  Odds Ratio\n",
      "9           emp_in_2.0    -2.792391    0.061275\n",
      "3          account_fin     2.131093    8.424068\n",
      "11    urban_employment     2.092169    8.102472\n",
      "7               educ_5    -1.690992    0.184337\n",
      "6               educ_3     1.333408    3.793952\n",
      "4               fin22b    -0.723798    0.484907\n",
      "0               female    -0.298814    0.741698\n",
      "8   urbanicity_f2f_2.0    -0.258979    0.771840\n",
      "1                  age     0.254059    1.289248\n",
      "5               educ_2    -0.061177    0.940657\n",
      "10    income_education    -0.035631    0.964996\n",
      "2                inc_q     0.033897    1.034478\n"
     ]
    },
    {
     "data": {
      "image/png": "[encoded data removed]",
      "text/plain": [
       "<Figure size 1000x600 with 1 Axes>"
      ]
     },
     "metadata": {},
     "output_type": "display_data"
    }
   ],
   "source": [
    " import pandas as pd\n",
    "import numpy as np\n",
    "import matplotlib.pyplot as plt\n",
    "from sklearn.linear_model import LogisticRegression\n",
    "\n",
    "# Step 1: Fit the logistic regression model again using the best hyperparameters and class_weight\n",
    "log_reg = LogisticRegression(\n",
    "    C=best_params['C'],\n",
    "    max_iter=best_params['max_iter'],\n",
    "    penalty=best_params['penalty'],\n",
    "    solver=best_params['solver'],\n",
    "    class_weight='balanced',\n",
    "    random_state=42\n",
    ")\n",
    "\n",
    "# Fit the model to the training data\n",
    "log_reg.fit(X_train, y_train)\n",
    "\n",
    "# Step 2: Extract coefficients and calculate odds ratios\n",
    "coefficients = log_reg.coef_[0]\n",
    "odds_ratios = np.exp(coefficients)\n",
    "\n",
    "# Create a DataFrame to organize coefficients and odds ratios\n",
    "coeff_df = pd.DataFrame({\n",
    "    'Variable': X_train.columns,\n",
    "    'Coefficient': coefficients,\n",
    "    'Odds Ratio': odds_ratios\n",
    "})\n",
    "\n",
    "# Sort by the absolute value of coefficients for better visualization\n",
    "coeff_df = coeff_df.reindex(coeff_df['Coefficient'].abs().sort_values(ascending=False).index)\n",
    "\n",
    "# Display the coefficients and odds ratios\n",
    "print(\"Coefficients and Odds Ratios:\")\n",
    "print(coeff_df)\n",
    "\n",
    "# Step 3: Visualize the odds ratios\n",
    "plt.figure(figsize=(10, 6))\n",
    "plt.barh(coeff_df['Variable'], coeff_df['Odds Ratio'], color='skyblue')\n",
    "plt.xlabel('Odds Ratio')\n",
    "plt.ylabel('Variables')\n",
    "plt.title('Odds Ratios of Independent Variables (Borrowing Model)')\n",
    "plt.gca().invert_yaxis()  # Optional: highest at the top\n",
    "plt.tight_layout()\n",
    "plt.show()\n"
   ]
  },
  {
   "cell_type": "code",
   "execution_count": null,
   "metadata": {
    "colab": {
     "base_uri": "https://localhost:8080/"
    },
    "id": "PADvA1oNDKbj",
    "outputId": "a62fa08d-9969-499d-b21d-2b1c3f281053"
   },
   "outputs": [
    {
     "name": "stdout",
     "output_type": "stream",
     "text": [
      "[2 1 3 4]\n"
     ]
    }
   ],
   "source": [
    "print(ghana_df_borrowing['fin22a'].unique())\n"
   ]
  },
  {
   "cell_type": "code",
   "execution_count": null,
   "metadata": {
    "colab": {
     "base_uri": "https://localhost:8080/",
     "height": 457
    },
    "id": "IDNMuLtISTfA",
    "outputId": "a4a20e21-fed8-4ec2-b655-ad5758bcb150"
   },
   "outputs": [
    {
     "data": {
      "application/vnd.google.colaboratory.intrinsic+json": {
       "summary": "{\n  \"name\": \"})\",\n  \"rows\": 13,\n  \"fields\": [\n    {\n      \"column\": \"Feature\",\n      \"properties\": {\n        \"dtype\": \"string\",\n        \"num_unique_values\": 13,\n        \"samples\": [\n          \"income_education\",\n          \"urbanicity_f2f_2.0\",\n          \"const\"\n        ],\n        \"semantic_type\": \"\",\n        \"description\": \"\"\n      }\n    },\n    {\n      \"column\": \"VIF\",\n      \"properties\": {\n        \"dtype\": \"number\",\n        \"std\": 8.070266195629003,\n        \"min\": 1.0138352193314593,\n        \"max\": 30.500188256514683,\n        \"num_unique_values\": 13,\n        \"samples\": [\n          10.572573647127516,\n          1.3824944402326502,\n          30.500188256514683\n        ],\n        \"semantic_type\": \"\",\n        \"description\": \"\"\n      }\n    }\n  ]\n}",
       "type": "dataframe"
      },
      "text/html": [
       "\n",
       "  <div id=\"df-ead8c8bd-f168-49e4-a603-7a07a3ca212f\" class=\"colab-df-container\">\n",
       "    <div>\n",
       "<style scoped>\n",
       "    .dataframe tbody tr th:only-of-type {\n",
       "        vertical-align: middle;\n",
       "    }\n",
       "\n",
       "    .dataframe tbody tr th {\n",
       "        vertical-align: top;\n",
       "    }\n",
       "\n",
       "    .dataframe thead th {\n",
       "        text-align: right;\n",
       "    }\n",
       "</style>\n",
       "<table border=\"1\" class=\"dataframe\">\n",
       "  <thead>\n",
       "    <tr style=\"text-align: right;\">\n",
       "      <th></th>\n",
       "      <th>Feature</th>\n",
       "      <th>VIF</th>\n",
       "    </tr>\n",
       "  </thead>\n",
       "  <tbody>\n",
       "    <tr>\n",
       "      <th>0</th>\n",
       "      <td>const</td>\n",
       "      <td>30.500188</td>\n",
       "    </tr>\n",
       "    <tr>\n",
       "      <th>1</th>\n",
       "      <td>female</td>\n",
       "      <td>1.062013</td>\n",
       "    </tr>\n",
       "    <tr>\n",
       "      <th>2</th>\n",
       "      <td>age</td>\n",
       "      <td>1.078099</td>\n",
       "    </tr>\n",
       "    <tr>\n",
       "      <th>3</th>\n",
       "      <td>inc_q</td>\n",
       "      <td>3.724467</td>\n",
       "    </tr>\n",
       "    <tr>\n",
       "      <th>4</th>\n",
       "      <td>account_fin</td>\n",
       "      <td>1.304382</td>\n",
       "    </tr>\n",
       "    <tr>\n",
       "      <th>5</th>\n",
       "      <td>fin22b</td>\n",
       "      <td>1.013835</td>\n",
       "    </tr>\n",
       "    <tr>\n",
       "      <th>6</th>\n",
       "      <td>educ_2</td>\n",
       "      <td>6.723833</td>\n",
       "    </tr>\n",
       "    <tr>\n",
       "      <th>7</th>\n",
       "      <td>educ_3</td>\n",
       "      <td>3.121701</td>\n",
       "    </tr>\n",
       "    <tr>\n",
       "      <th>8</th>\n",
       "      <td>educ_5</td>\n",
       "      <td>1.023059</td>\n",
       "    </tr>\n",
       "    <tr>\n",
       "      <th>9</th>\n",
       "      <td>urbanicity_f2f_2.0</td>\n",
       "      <td>1.382494</td>\n",
       "    </tr>\n",
       "    <tr>\n",
       "      <th>10</th>\n",
       "      <td>emp_in_2.0</td>\n",
       "      <td>3.507007</td>\n",
       "    </tr>\n",
       "    <tr>\n",
       "      <th>11</th>\n",
       "      <td>income_education</td>\n",
       "      <td>10.572574</td>\n",
       "    </tr>\n",
       "    <tr>\n",
       "      <th>12</th>\n",
       "      <td>urban_employment</td>\n",
       "      <td>3.727380</td>\n",
       "    </tr>\n",
       "  </tbody>\n",
       "</table>\n",
       "</div>\n",
       "    <div class=\"colab-df-buttons\">\n",
       "\n",
       "  <div class=\"colab-df-container\">\n",
       "    <button class=\"colab-df-convert\" onclick=\"convertToInteractive('df-ead8c8bd-f168-49e4-a603-7a07a3ca212f')\"\n",
       "            title=\"Convert this dataframe to an interactive table.\"\n",
       "            style=\"display:none;\">\n",
       "\n",
       "  <svg xmlns=\"http://www.w3.org/2000/svg\" height=\"24px\" viewBox=\"0 -960 960 960\">\n",
       "    <path d=\"M120-120v-720h720v720H120Zm60-500h600v-160H180v160Zm220 220h160v-160H400v160Zm0 220h160v-160H400v160ZM180-400h160v-160H180v160Zm440 0h160v-160H620v160ZM180-180h160v-160H180v160Zm440 0h160v-160H620v160Z\"/>\n",
       "  </svg>\n",
       "    </button>\n",
       "\n",
       "  <style>\n",
       "    .colab-df-container {\n",
       "      display:flex;\n",
       "      gap: 12px;\n",
       "    }\n",
       "\n",
       "    .colab-df-convert {\n",
       "      background-color: #E8F0FE;\n",
       "      border: none;\n",
       "      border-radius: 50%;\n",
       "      cursor: pointer;\n",
       "      display: none;\n",
       "      fill: #1967D2;\n",
       "      height: 32px;\n",
       "      padding: 0 0 0 0;\n",
       "      width: 32px;\n",
       "    }\n",
       "\n",
       "    .colab-df-convert:hover {\n",
       "      background-color: #E2EBFA;\n",
       "      box-shadow: 0px 1px 2px rgba(60, 64, 67, 0.3), 0px 1px 3px 1px rgba(60, 64, 67, 0.15);\n",
       "      fill: #174EA6;\n",
       "    }\n",
       "\n",
       "    .colab-df-buttons div {\n",
       "      margin-bottom: 4px;\n",
       "    }\n",
       "\n",
       "    [theme=dark] .colab-df-convert {\n",
       "      background-color: #3B4455;\n",
       "      fill: #D2E3FC;\n",
       "    }\n",
       "\n",
       "    [theme=dark] .colab-df-convert:hover {\n",
       "      background-color: #434B5C;\n",
       "      box-shadow: 0px 1px 3px 1px rgba(0, 0, 0, 0.15);\n",
       "      filter: drop-shadow(0px 1px 2px rgba(0, 0, 0, 0.3));\n",
       "      fill: #FFFFFF;\n",
       "    }\n",
       "  </style>\n",
       "\n",
       "    <script>\n",
       "      const buttonEl =\n",
       "        document.querySelector('#df-ead8c8bd-f168-49e4-a603-7a07a3ca212f button.colab-df-convert');\n",
       "      buttonEl.style.display =\n",
       "        google.colab.kernel.accessAllowed ? 'block' : 'none';\n",
       "\n",
       "      async function convertToInteractive(key) {\n",
       "        const element = document.querySelector('#df-ead8c8bd-f168-49e4-a603-7a07a3ca212f');\n",
       "        const dataTable =\n",
       "          await google.colab.kernel.invokeFunction('convertToInteractive',\n",
       "                                                    [key], {});\n",
       "        if (!dataTable) return;\n",
       "\n",
       "        const docLinkHtml = 'Like what you see? Visit the ' +\n",
       "          '<a target=\"_blank\" href=https://colab.research.google.com/notebooks/data_table.ipynb>data table notebook</a>'\n",
       "          + ' to learn more about interactive tables.';\n",
       "        element.innerHTML = '';\n",
       "        dataTable['output_type'] = 'display_data';\n",
       "        await google.colab.output.renderOutput(dataTable, element);\n",
       "        const docLink = document.createElement('div');\n",
       "        docLink.innerHTML = docLinkHtml;\n",
       "        element.appendChild(docLink);\n",
       "      }\n",
       "    </script>\n",
       "  </div>\n",
       "\n",
       "\n",
       "<div id=\"df-3f3626fb-3807-4b1e-96b4-bf14f171f4d7\">\n",
       "  <button class=\"colab-df-quickchart\" onclick=\"quickchart('df-3f3626fb-3807-4b1e-96b4-bf14f171f4d7')\"\n",
       "            title=\"Suggest charts\"\n",
       "            style=\"display:none;\">\n",
       "\n",
       "<svg xmlns=\"http://www.w3.org/2000/svg\" height=\"24px\"viewBox=\"0 0 24 24\"\n",
       "     width=\"24px\">\n",
       "    <g>\n",
       "        <path d=\"M19 3H5c-1.1 0-2 .9-2 2v14c0 1.1.9 2 2 2h14c1.1 0 2-.9 2-2V5c0-1.1-.9-2-2-2zM9 17H7v-7h2v7zm4 0h-2V7h2v10zm4 0h-2v-4h2v4z\"/>\n",
       "    </g>\n",
       "</svg>\n",
       "  </button>\n",
       "\n",
       "<style>\n",
       "  .colab-df-quickchart {\n",
       "      --bg-color: #E8F0FE;\n",
       "      --fill-color: #1967D2;\n",
       "      --hover-bg-color: #E2EBFA;\n",
       "      --hover-fill-color: #174EA6;\n",
       "      --disabled-fill-color: #AAA;\n",
       "      --disabled-bg-color: #DDD;\n",
       "  }\n",
       "\n",
       "  [theme=dark] .colab-df-quickchart {\n",
       "      --bg-color: #3B4455;\n",
       "      --fill-color: #D2E3FC;\n",
       "      --hover-bg-color: #434B5C;\n",
       "      --hover-fill-color: #FFFFFF;\n",
       "      --disabled-bg-color: #3B4455;\n",
       "      --disabled-fill-color: #666;\n",
       "  }\n",
       "\n",
       "  .colab-df-quickchart {\n",
       "    background-color: var(--bg-color);\n",
       "    border: none;\n",
       "    border-radius: 50%;\n",
       "    cursor: pointer;\n",
       "    display: none;\n",
       "    fill: var(--fill-color);\n",
       "    height: 32px;\n",
       "    padding: 0;\n",
       "    width: 32px;\n",
       "  }\n",
       "\n",
       "  .colab-df-quickchart:hover {\n",
       "    background-color: var(--hover-bg-color);\n",
       "    box-shadow: 0 1px 2px rgba(60, 64, 67, 0.3), 0 1px 3px 1px rgba(60, 64, 67, 0.15);\n",
       "    fill: var(--button-hover-fill-color);\n",
       "  }\n",
       "\n",
       "  .colab-df-quickchart-complete:disabled,\n",
       "  .colab-df-quickchart-complete:disabled:hover {\n",
       "    background-color: var(--disabled-bg-color);\n",
       "    fill: var(--disabled-fill-color);\n",
       "    box-shadow: none;\n",
       "  }\n",
       "\n",
       "  .colab-df-spinner {\n",
       "    border: 2px solid var(--fill-color);\n",
       "    border-color: transparent;\n",
       "    border-bottom-color: var(--fill-color);\n",
       "    animation:\n",
       "      spin 1s steps(1) infinite;\n",
       "  }\n",
       "\n",
       "  @keyframes spin {\n",
       "    0% {\n",
       "      border-color: transparent;\n",
       "      border-bottom-color: var(--fill-color);\n",
       "      border-left-color: var(--fill-color);\n",
       "    }\n",
       "    20% {\n",
       "      border-color: transparent;\n",
       "      border-left-color: var(--fill-color);\n",
       "      border-top-color: var(--fill-color);\n",
       "    }\n",
       "    30% {\n",
       "      border-color: transparent;\n",
       "      border-left-color: var(--fill-color);\n",
       "      border-top-color: var(--fill-color);\n",
       "      border-right-color: var(--fill-color);\n",
       "    }\n",
       "    40% {\n",
       "      border-color: transparent;\n",
       "      border-right-color: var(--fill-color);\n",
       "      border-top-color: var(--fill-color);\n",
       "    }\n",
       "    60% {\n",
       "      border-color: transparent;\n",
       "      border-right-color: var(--fill-color);\n",
       "    }\n",
       "    80% {\n",
       "      border-color: transparent;\n",
       "      border-right-color: var(--fill-color);\n",
       "      border-bottom-color: var(--fill-color);\n",
       "    }\n",
       "    90% {\n",
       "      border-color: transparent;\n",
       "      border-bottom-color: var(--fill-color);\n",
       "    }\n",
       "  }\n",
       "</style>\n",
       "\n",
       "  <script>\n",
       "    async function quickchart(key) {\n",
       "      const quickchartButtonEl =\n",
       "        document.querySelector('#' + key + ' button');\n",
       "      quickchartButtonEl.disabled = true;  // To prevent multiple clicks.\n",
       "      quickchartButtonEl.classList.add('colab-df-spinner');\n",
       "      try {\n",
       "        const charts = await google.colab.kernel.invokeFunction(\n",
       "            'suggestCharts', [key], {});\n",
       "      } catch (error) {\n",
       "        console.error('Error during call to suggestCharts:', error);\n",
       "      }\n",
       "      quickchartButtonEl.classList.remove('colab-df-spinner');\n",
       "      quickchartButtonEl.classList.add('colab-df-quickchart-complete');\n",
       "    }\n",
       "    (() => {\n",
       "      let quickchartButtonEl =\n",
       "        document.querySelector('#df-3f3626fb-3807-4b1e-96b4-bf14f171f4d7 button');\n",
       "      quickchartButtonEl.style.display =\n",
       "        google.colab.kernel.accessAllowed ? 'block' : 'none';\n",
       "    })();\n",
       "  </script>\n",
       "</div>\n",
       "\n",
       "    </div>\n",
       "  </div>\n"
      ],
      "text/plain": [
       "               Feature        VIF\n",
       "0                const  30.500188\n",
       "1               female   1.062013\n",
       "2                  age   1.078099\n",
       "3                inc_q   3.724467\n",
       "4          account_fin   1.304382\n",
       "5               fin22b   1.013835\n",
       "6               educ_2   6.723833\n",
       "7               educ_3   3.121701\n",
       "8               educ_5   1.023059\n",
       "9   urbanicity_f2f_2.0   1.382494\n",
       "10          emp_in_2.0   3.507007\n",
       "11    income_education  10.572574\n",
       "12    urban_employment   3.727380"
      ]
     },
     "execution_count": 60,
     "metadata": {},
     "output_type": "execute_result"
    }
   ],
   "source": [
    "from statsmodels.stats.outliers_influence import variance_inflation_factor\n",
    "from statsmodels.tools.tools import add_constant\n",
    "\n",
    "X_vif = add_constant(X_train.select_dtypes(include='number'))\n",
    "pd.DataFrame({\n",
    "    'Feature': X_vif.columns,\n",
    "    'VIF': [variance_inflation_factor(X_vif.values, i) for i in range(X_vif.shape[1])]\n",
    "})\n"
   ]
  },
  {
   "cell_type": "code",
   "execution_count": null,
   "metadata": {
    "colab": {
     "base_uri": "https://localhost:8080/",
     "height": 384
    },
    "id": "lACZXKR8SUPE",
    "outputId": "3be04b56-c271-43a1-ce7e-d09ab43f321e"
   },
   "outputs": [
    {
     "ename": "ModuleNotFoundError",
     "errorDetails": {
      "actions": [
       {
        "action": "open_url",
        "actionText": "Open Examples",
        "url": "/notebooks/snippets/importing_libraries.ipynb"
       }
      ]
     },
     "evalue": "No module named 'qrcode'",
     "output_type": "error",
     "traceback": [
      "\u001b[0;31m---------------------------------------------------------------------------\u001b[0m",
      "\u001b[0;31mModuleNotFoundError\u001b[0m                       Traceback (most recent call last)",
      "\u001b[0;32m<ipython-input-1-870c0da9e6a6>\u001b[0m in \u001b[0;36m<cell line: 0>\u001b[0;34m()\u001b[0m\n\u001b[0;32m----> 1\u001b[0;31m \u001b[0;32mimport\u001b[0m \u001b[0mqrcode\u001b[0m\u001b[0;34m\u001b[0m\u001b[0;34m\u001b[0m\u001b[0m\n\u001b[0m\u001b[1;32m      2\u001b[0m \u001b[0;32mfrom\u001b[0m \u001b[0mPIL\u001b[0m \u001b[0;32mimport\u001b[0m \u001b[0mImage\u001b[0m\u001b[0;34m\u001b[0m\u001b[0;34m\u001b[0m\u001b[0m\n\u001b[1;32m      3\u001b[0m \u001b[0;32mfrom\u001b[0m \u001b[0mio\u001b[0m \u001b[0;32mimport\u001b[0m \u001b[0mBytesIO\u001b[0m\u001b[0;34m\u001b[0m\u001b[0;34m\u001b[0m\u001b[0m\n\u001b[1;32m      4\u001b[0m \u001b[0;34m\u001b[0m\u001b[0m\n\u001b[1;32m      5\u001b[0m \u001b[0;31m# References and their summaries\u001b[0m\u001b[0;34m\u001b[0m\u001b[0;34m\u001b[0m\u001b[0m\n",
      "\u001b[0;31mModuleNotFoundError\u001b[0m: No module named 'qrcode'",
      "",
      "\u001b[0;31m---------------------------------------------------------------------------\u001b[0;32m\nNOTE: If your import is failing due to a missing package, you can\nmanually install dependencies using either !pip or !apt.\n\nTo view examples of installing some common dependencies, click the\n\"Open Examples\" button below.\n\u001b[0;31m---------------------------------------------------------------------------\u001b[0m\n"
     ]
    }
   ],
   "source": []
  },
  {
   "cell_type": "code",
   "execution_count": null,
   "metadata": {
    "id": "qguXr_QMW1xq"
   },
   "outputs": [],
   "source": []
  }
 ],
 "metadata": {
  "colab": {
   "collapsed_sections": [
    "bSppHNzH9oLg",
    "JorlOUpZBwgf",
    "HWv04tT94ySI",
    "GbUv9R81xijB",
    "XTGGdTukwDrk"
   ],
   "provenance": []
  },
  "kernelspec": {
   "display_name": "Python 3 (ipykernel)",
   "language": "python",
   "name": "python3"
  },
  "language_info": {
   "codemirror_mode": {
    "name": "ipython",
    "version": 3
   },
   "file_extension": ".py",
   "mimetype": "text/x-python",
   "name": "python",
   "nbconvert_exporter": "python",
   "pygments_lexer": "ipython3",
   "version": "3.8.19"
  }
 },
 "nbformat": 4,
 "nbformat_minor": 1
}
